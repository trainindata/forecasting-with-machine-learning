{
 "cells": [
  {
   "cell_type": "markdown",
   "id": "0c0af68d-793e-40ce-b41a-85131ab6aeb3",
   "metadata": {},
   "source": [
    "# Exercise 2: Backtesting with multiple time series"
   ]
  },
  {
   "cell_type": "markdown",
   "id": "8f5b8ff1-e3f7-47af-b603-15d89d0c6fe5",
   "metadata": {},
   "source": [
    "In this notebook we set out an exercise to do backtesting to compare different models for multiple time series. The solutions we show are only one way of answering these questions."
   ]
  },
  {
   "cell_type": "code",
   "execution_count": null,
   "id": "91a8c715-0369-4928-907d-9492db4f37a1",
   "metadata": {},
   "outputs": [],
   "source": [
    "import numpy as np\n",
    "import pandas as pd\n",
    "import matplotlib.pyplot as plt"
   ]
  },
  {
   "cell_type": "markdown",
   "id": "f6e9fcef-4dde-4107-bce6-216516626f86",
   "metadata": {},
   "source": [
    "# Data preparation"
   ]
  },
  {
   "cell_type": "markdown",
   "id": "d91ac0bd-372a-4ef0-9c0e-a0e0cf12560d",
   "metadata": {},
   "source": [
    "The dataset we shall use is the Quarterly overnight trips (in thousands) from 1998 Q1 to 2016 Q4 across\n",
    "Australia. The number of trips is split by `State`, `Region`, and `Purpose`. \n",
    "\n",
    "**In this exercise we are going to forecast the total number of trips for each Region (there are 76 regions therefore we will have 76 time series).**\n",
    "\n",
    "Source: A new tidy data structure to support\n",
    "exploration and modeling of temporal data, Journal of Computational and\n",
    "Graphical Statistics, 29:3, 466-478, doi:10.1080/10618600.2019.1695624.\n",
    "Shape of the dataset: (24320, 5)"
   ]
  },
  {
   "cell_type": "code",
   "execution_count": null,
   "id": "76ef5949-cbf1-4109-887d-104f71574c2a",
   "metadata": {},
   "outputs": [],
   "source": [
    "from skforecast.datasets import fetch_dataset\n",
    "\n",
    "# Load the data\n",
    "data = fetch_dataset(name=\"australia_tourism\", raw=True)\n",
    "data.head()"
   ]
  },
  {
   "cell_type": "markdown",
   "id": "48a62223-83ab-4a7e-af1b-4fe91e1b31c7",
   "metadata": {},
   "source": [
    "Pre-process the data by performing the following:\n",
    "1) Convert the `date_time` column to datetime type\n",
    "2) Create a dataframe with one column per `Region` which gives the total number of Trips for each date.\n",
    "3) Ensure the index is `date_time` and resampled to quarterly start `QS`\n"
   ]
  },
  {
   "cell_type": "code",
   "execution_count": null,
   "id": "6506a6d4-e680-4c12-9dd1-7e037c91a2ef",
   "metadata": {},
   "outputs": [],
   "source": []
  },
  {
   "cell_type": "markdown",
   "id": "446f0153-9869-4f25-a84e-d040b9078635",
   "metadata": {},
   "source": [
    "Later we will use LightGBM. It does not support special JSON characters (e.g., `'`)  in the column name. Let's remove these characters from the column names."
   ]
  },
  {
   "cell_type": "code",
   "execution_count": null,
   "id": "e78e1110-9a99-4ff2-af9f-d78fd28bcc9e",
   "metadata": {},
   "outputs": [],
   "source": [
    "import re\n",
    "\n",
    "data = data.rename(columns=lambda x: re.sub(\"[^A-Za-z0-9_]+\", \"\", x))"
   ]
  },
  {
   "cell_type": "markdown",
   "id": "589f58e0-6106-430c-ab2b-557ea84bb2a5",
   "metadata": {},
   "source": [
    "Check for missing values."
   ]
  },
  {
   "cell_type": "code",
   "execution_count": null,
   "id": "92bd6aaf-caac-4bb8-96a2-c0d59220f6e8",
   "metadata": {},
   "outputs": [],
   "source": []
  },
  {
   "cell_type": "markdown",
   "id": "eb03773c-a9bf-4fa8-84a4-099af6b87827",
   "metadata": {},
   "source": [
    "# Exploratory data analysis"
   ]
  },
  {
   "cell_type": "markdown",
   "id": "7d1ba5b6-b49d-4bab-882e-915f075b9493",
   "metadata": {},
   "source": [
    "Print the number of data points in the time series, the start time, and the end time of the time series."
   ]
  },
  {
   "cell_type": "code",
   "execution_count": null,
   "id": "36af3ab9-4267-471d-800b-dc9a3dcdb43e",
   "metadata": {},
   "outputs": [],
   "source": []
  },
  {
   "cell_type": "markdown",
   "id": "3ffa8a95-d0d5-48e4-ba5f-b92a4f54c0ef",
   "metadata": {},
   "source": [
    "Plot the time series summed over all regions"
   ]
  },
  {
   "cell_type": "code",
   "execution_count": null,
   "id": "f1629484-508f-419f-8647-1ef6626eab26",
   "metadata": {},
   "outputs": [],
   "source": []
  },
  {
   "cell_type": "markdown",
   "id": "bdff7d75-4ca8-4b40-aebb-1ef24318b6e0",
   "metadata": {},
   "source": [
    "Plot a subsample of the time series from different regions."
   ]
  },
  {
   "cell_type": "code",
   "execution_count": null,
   "id": "652caf88-93a8-4b82-abbb-0d07ccbdbdb7",
   "metadata": {},
   "outputs": [],
   "source": []
  },
  {
   "cell_type": "markdown",
   "id": "f4befcc4-bf9a-4adf-bb81-8c4c136007a1",
   "metadata": {},
   "source": [
    "Create a quarter of the year feature which could help with this."
   ]
  },
  {
   "cell_type": "code",
   "execution_count": null,
   "id": "1ab5c17b-cf5a-40e9-9c6a-61052d17f693",
   "metadata": {},
   "outputs": [],
   "source": []
  },
  {
   "cell_type": "markdown",
   "id": "bed95ade-4109-4b31-847b-28f5c9807692",
   "metadata": {},
   "source": [
    "# Model definition"
   ]
  },
  {
   "cell_type": "markdown",
   "id": "a40647fe-99b4-474e-8a03-b7bf4f9eed29",
   "metadata": {},
   "source": [
    "Import the classes needed for recursive forecasting for multiple time series and window features from `skforecast`."
   ]
  },
  {
   "cell_type": "code",
   "execution_count": null,
   "id": "613011ce-c45c-40b5-b46a-e6a8037d4f08",
   "metadata": {},
   "outputs": [],
   "source": []
  },
  {
   "cell_type": "markdown",
   "id": "d692c732-e699-46cb-bab6-cd148e9af1f1",
   "metadata": {},
   "source": [
    "Import a transformer from sklearn to scale the data."
   ]
  },
  {
   "cell_type": "code",
   "execution_count": null,
   "id": "cadffd44-e241-4677-b640-9c8b9db2784f",
   "metadata": {},
   "outputs": [],
   "source": []
  },
  {
   "cell_type": "markdown",
   "id": "eaf0b4fb-9548-4da1-b356-e9ec377d68f9",
   "metadata": {},
   "source": [
    "Import a linear model and LightGBM"
   ]
  },
  {
   "cell_type": "code",
   "execution_count": null,
   "id": "0495bdc3-5e22-483a-b0ab-2b3e0402fbee",
   "metadata": {},
   "outputs": [],
   "source": []
  },
  {
   "cell_type": "markdown",
   "id": "dca4af0c-af99-4ced-b13d-5528ed7f9866",
   "metadata": {},
   "source": [
    "Define a function that extracts features from the target variable:\n",
    "- A rolling mean with window 4\n",
    "- A rolling standard deviation with window 4\n",
    "- A rolling mean with window 12\n",
    "- A rolling standard deviation with window 12\n",
    "\n",
    "Hint: https://skforecast.org/0.11.0/user_guides/custom-predictors.html"
   ]
  },
  {
   "cell_type": "code",
   "execution_count": null,
   "id": "7eb270e3-12ea-4cb8-82d2-09bf27a81afc",
   "metadata": {},
   "outputs": [],
   "source": []
  },
  {
   "cell_type": "markdown",
   "id": "66a304ca-77a4-48f6-99ef-f24d30417daa",
   "metadata": {},
   "source": [
    "Define one forecaster for the linear model and one forecaster for the LightGBM model  using `skforecast`. Pass the function in the previous cell as an argument. Use all lags of up to 8."
   ]
  },
  {
   "cell_type": "code",
   "execution_count": null,
   "id": "59447171-bbdc-4a0a-82d1-fa809a9db068",
   "metadata": {},
   "outputs": [],
   "source": []
  },
  {
   "cell_type": "markdown",
   "id": "8b8d3162-9769-4b24-896a-f10a4914dabf",
   "metadata": {},
   "source": [
    "# Backtesting"
   ]
  },
  {
   "cell_type": "markdown",
   "id": "115435b1-725c-4dc1-9df1-782b19d1fc55",
   "metadata": {},
   "source": [
    "Import the relevant backtesting objects from `skforecast`."
   ]
  },
  {
   "cell_type": "code",
   "execution_count": null,
   "id": "bd952f40-4636-4fa7-ba9a-25eeb0d797c8",
   "metadata": {},
   "outputs": [],
   "source": []
  },
  {
   "cell_type": "markdown",
   "id": "4841d21c-fc14-4aba-867b-53ae9def3c36",
   "metadata": {},
   "source": [
    "Assign the name of the target variables and exogenous variables to variables called `target_cols` and `exog_cols`."
   ]
  },
  {
   "cell_type": "code",
   "execution_count": null,
   "id": "5dd68852-0c87-4b34-adc6-d11c4050a5ae",
   "metadata": {},
   "outputs": [],
   "source": []
  },
  {
   "cell_type": "markdown",
   "id": "1dd03f71-1e45-427d-85fe-9830dfbf686d",
   "metadata": {},
   "source": [
    "Use the backtesting function to do backtesting with:\n",
    "- Refitting at every step\n",
    "- An expanding training window\n",
    "- Use the `mean_absolute_error` as the error metric\n",
    "- Use the first 13 datapoints (just over 3 years) as initial training size\n",
    "- Use exogenous features\n",
    "- Set the forecast horizon to be 4 steps (i.e., 1 year)\n",
    "\n",
    "Do this twice, once for the linear forecaster and once for the lightgbm forecaster."
   ]
  },
  {
   "cell_type": "code",
   "execution_count": null,
   "id": "2b6a89aa-38bd-4a59-b603-bfb3f98b4c19",
   "metadata": {},
   "outputs": [],
   "source": []
  },
  {
   "cell_type": "code",
   "execution_count": null,
   "id": "4b66897e-b76a-42b3-8e37-59b72fd88a7a",
   "metadata": {},
   "outputs": [],
   "source": []
  },
  {
   "cell_type": "markdown",
   "id": "0a1678ed-b2a0-422d-9816-0a7ef2ec5a34",
   "metadata": {},
   "source": [
    "Merge the two metrics dataframe into a single dataframe to make it easier to compare the errors between the linear model and the LightGBM model. "
   ]
  },
  {
   "cell_type": "code",
   "execution_count": null,
   "id": "46c73196-40d2-44d4-a89d-8cb677a6875a",
   "metadata": {},
   "outputs": [],
   "source": []
  },
  {
   "cell_type": "markdown",
   "id": "32ef4541-c15e-4a51-92f8-5c693c5f5074",
   "metadata": {},
   "source": [
    "How often did one model outperform the other model? Remember, the lower the error the better."
   ]
  },
  {
   "cell_type": "code",
   "execution_count": null,
   "id": "02780ced-856e-4eaf-bea1-fe3f6e6cb95f",
   "metadata": {},
   "outputs": [],
   "source": []
  },
  {
   "cell_type": "markdown",
   "id": "4cde377b-d4f5-4a50-b358-566a51ebdfdc",
   "metadata": {},
   "source": [
    "It looks like Ridge was better for most time series here. Once again, for the lightgbm model to outperform we might need additional feature engineering, hyperparameter tuning, handling of trends, and more data. There are not any features which help group similar time series together - these type of features are normally well utilised by gradient boosted trees. So in this scenario, a simple linear model works better."
   ]
  },
  {
   "cell_type": "markdown",
   "id": "40f80613-124c-4591-b198-ca9819eae2c7",
   "metadata": {},
   "source": [
    "Compute the mean absolute error over all the predictions for both the linear model and the LightGBM model. Compare them."
   ]
  },
  {
   "cell_type": "code",
   "execution_count": null,
   "id": "5344aa17-275c-4fdb-9338-aa2673d90b20",
   "metadata": {},
   "outputs": [],
   "source": []
  },
  {
   "cell_type": "markdown",
   "id": "eb967325-4484-477c-a1f6-b2151079e55a",
   "metadata": {},
   "source": [
    "Plot the predictions made during backtesting alongside the actuals for a random subset of time series to get a better understanding of the errors."
   ]
  },
  {
   "cell_type": "code",
   "execution_count": null,
   "id": "e084d1db-ff9a-43cb-be4e-e0794486d80b",
   "metadata": {},
   "outputs": [],
   "source": []
  },
  {
   "cell_type": "markdown",
   "id": "aeac094e-47d4-4d19-9c99-3ea50ed397ad",
   "metadata": {},
   "source": [
    "Plot the predictions made during backtesting alongside the actuals for the **highest error** subset of time series to get a better understanding of the errors."
   ]
  },
  {
   "cell_type": "code",
   "execution_count": null,
   "id": "7dd01596-68e2-4484-a42b-2cfe5eb9103e",
   "metadata": {},
   "outputs": [],
   "source": []
  }
 ],
 "metadata": {
  "kernelspec": {
   "display_name": "Python 3 (ipykernel)",
   "language": "python",
   "name": "python3"
  },
  "language_info": {
   "codemirror_mode": {
    "name": "ipython",
    "version": 3
   },
   "file_extension": ".py",
   "mimetype": "text/x-python",
   "name": "python",
   "nbconvert_exporter": "python",
   "pygments_lexer": "ipython3",
   "version": "3.10.2"
  }
 },
 "nbformat": 4,
 "nbformat_minor": 5
}
