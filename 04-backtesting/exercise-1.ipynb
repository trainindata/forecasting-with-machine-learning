{
 "cells": [
  {
   "cell_type": "markdown",
   "id": "8f5b8ff1-e3f7-47af-b603-15d89d0c6fe5",
   "metadata": {},
   "source": [
    "In this notebook we set out an exercise to do backtesting to compare different models for a single time series. The solutions we show are only one way of answering these questions."
   ]
  },
  {
   "cell_type": "markdown",
   "id": "f6e9fcef-4dde-4107-bce6-216516626f86",
   "metadata": {},
   "source": [
    "# Data preparation"
   ]
  },
  {
   "cell_type": "markdown",
   "id": "d91ac0bd-372a-4ef0-9c0e-a0e0cf12560d",
   "metadata": {},
   "source": [
    "The dataset we shall use is the daily web visits to cienciadedatos.net."
   ]
  },
  {
   "cell_type": "code",
   "execution_count": null,
   "id": "76ef5949-cbf1-4109-887d-104f71574c2a",
   "metadata": {},
   "outputs": [],
   "source": [
    "from skforecast.datasets import fetch_dataset\n",
    "\n",
    "# Load the data\n",
    "data = fetch_dataset(name=\"website_visits\", raw=True)\n",
    "data.head()"
   ]
  },
  {
   "cell_type": "markdown",
   "id": "48a62223-83ab-4a7e-af1b-4fe91e1b31c7",
   "metadata": {},
   "source": [
    "Pre-process the data by performing the following:\n",
    "1) Convert the `date` column to datetime type\n",
    "2) Set the date as an index\n",
    "3) Set the frequency to daily\n",
    "4) Sort the time series by date\n",
    "\n",
    "Hint: Try the format `%d/%m/%y`"
   ]
  },
  {
   "cell_type": "code",
   "execution_count": null,
   "id": "47d63a91-4966-4f0c-a081-2c5821298a28",
   "metadata": {},
   "outputs": [],
   "source": []
  },
  {
   "cell_type": "markdown",
   "id": "589f58e0-6106-430c-ab2b-557ea84bb2a5",
   "metadata": {},
   "source": [
    "Check for missing values."
   ]
  },
  {
   "cell_type": "code",
   "execution_count": null,
   "id": "535fd22d-3e40-4796-aca8-05a029d36129",
   "metadata": {},
   "outputs": [],
   "source": []
  },
  {
   "cell_type": "markdown",
   "id": "eb03773c-a9bf-4fa8-84a4-099af6b87827",
   "metadata": {},
   "source": [
    "# Exploratory data analysis"
   ]
  },
  {
   "cell_type": "markdown",
   "id": "7d1ba5b6-b49d-4bab-882e-915f075b9493",
   "metadata": {},
   "source": [
    "Print the number of data points in the time series, the start time, and the end time of the time series."
   ]
  },
  {
   "cell_type": "code",
   "execution_count": null,
   "id": "271cdc42-587b-4ee7-a433-71d8103ced5f",
   "metadata": {},
   "outputs": [],
   "source": []
  },
  {
   "cell_type": "markdown",
   "id": "3ffa8a95-d0d5-48e4-ba5f-b92a4f54c0ef",
   "metadata": {},
   "source": [
    "Plot the time series"
   ]
  },
  {
   "cell_type": "code",
   "execution_count": null,
   "id": "f1629484-508f-419f-8647-1ef6626eab26",
   "metadata": {},
   "outputs": [],
   "source": []
  },
  {
   "cell_type": "markdown",
   "id": "af0befd7-d612-4bfe-8cb6-fc2bfd2bc9f1",
   "metadata": {},
   "source": [
    "Check if there is any weekly seasonality. \n",
    "\n",
    "Note: This could be done in a variety ways with different degrees of complexity. "
   ]
  },
  {
   "cell_type": "code",
   "execution_count": null,
   "id": "6c2b84e0-07a4-46ef-ae53-6327625a7284",
   "metadata": {},
   "outputs": [],
   "source": []
  },
  {
   "cell_type": "markdown",
   "id": "3fcb0da2-348b-4e8e-8aae-72eeb7db1b4c",
   "metadata": {},
   "source": [
    "Create a feature(s) which can help capture weekly seasonality from the datetime index."
   ]
  },
  {
   "cell_type": "code",
   "execution_count": null,
   "id": "1ab5c17b-cf5a-40e9-9c6a-61052d17f693",
   "metadata": {},
   "outputs": [],
   "source": []
  },
  {
   "cell_type": "markdown",
   "id": "bed95ade-4109-4b31-847b-28f5c9807692",
   "metadata": {},
   "source": [
    "# Model definition"
   ]
  },
  {
   "cell_type": "markdown",
   "id": "a40647fe-99b4-474e-8a03-b7bf4f9eed29",
   "metadata": {},
   "source": [
    "Import the class needed for recursive forecasting with a single time series from `skforecast`."
   ]
  },
  {
   "cell_type": "code",
   "execution_count": null,
   "id": "613011ce-c45c-40b5-b46a-e6a8037d4f08",
   "metadata": {},
   "outputs": [],
   "source": []
  },
  {
   "cell_type": "markdown",
   "id": "d692c732-e699-46cb-bab6-cd148e9af1f1",
   "metadata": {},
   "source": [
    "Import a transformer from sklearn to scale the data."
   ]
  },
  {
   "cell_type": "code",
   "execution_count": null,
   "id": "cadffd44-e241-4677-b640-9c8b9db2784f",
   "metadata": {},
   "outputs": [],
   "source": []
  },
  {
   "cell_type": "markdown",
   "id": "eaf0b4fb-9548-4da1-b356-e9ec377d68f9",
   "metadata": {},
   "source": [
    "Import a linear model and LightGBM"
   ]
  },
  {
   "cell_type": "code",
   "execution_count": null,
   "id": "0495bdc3-5e22-483a-b0ab-2b3e0402fbee",
   "metadata": {},
   "outputs": [],
   "source": []
  },
  {
   "cell_type": "markdown",
   "id": "66a304ca-77a4-48f6-99ef-f24d30417daa",
   "metadata": {},
   "source": [
    "Define one forecaster for the linear model and one forecaster for the LightGBM model  using `skforecast`. Use some recent lags and a lag of 7 to capture weekly seasonality."
   ]
  },
  {
   "cell_type": "code",
   "execution_count": null,
   "id": "59447171-bbdc-4a0a-82d1-fa809a9db068",
   "metadata": {},
   "outputs": [],
   "source": []
  },
  {
   "cell_type": "markdown",
   "id": "8b8d3162-9769-4b24-896a-f10a4914dabf",
   "metadata": {},
   "source": [
    "# Backtesting"
   ]
  },
  {
   "cell_type": "markdown",
   "id": "115435b1-725c-4dc1-9df1-782b19d1fc55",
   "metadata": {},
   "source": [
    "Import the relevant backtesting objects from `skforecast`."
   ]
  },
  {
   "cell_type": "code",
   "execution_count": null,
   "id": "bd952f40-4636-4fa7-ba9a-25eeb0d797c8",
   "metadata": {},
   "outputs": [],
   "source": []
  },
  {
   "cell_type": "markdown",
   "id": "1dd03f71-1e45-427d-85fe-9830dfbf686d",
   "metadata": {},
   "source": [
    "Use `backtesting_forecaster` to do backtesting with:\n",
    "- Intermittent refitting where the model is refit every 7 steps\n",
    "- An expanding training window\n",
    "- Using both the `mean_squared_error` and the `mean_absolute_percentage_error`\n",
    "- Use approximately the first 30 days for training\n",
    "- Use exogenous features\n",
    "\n",
    "Do this twice, once for the linear forecaster and once for the lightgbm forecaster."
   ]
  },
  {
   "cell_type": "code",
   "execution_count": null,
   "id": "2b6a89aa-38bd-4a59-b603-bfb3f98b4c19",
   "metadata": {},
   "outputs": [],
   "source": []
  },
  {
   "cell_type": "code",
   "execution_count": null,
   "id": "4b66897e-b76a-42b3-8e37-59b72fd88a7a",
   "metadata": {},
   "outputs": [],
   "source": []
  },
  {
   "cell_type": "markdown",
   "id": "0a1678ed-b2a0-422d-9816-0a7ef2ec5a34",
   "metadata": {},
   "source": [
    "Compare the metrics for the linear model and lightgbm model. Which model did better?"
   ]
  },
  {
   "cell_type": "code",
   "execution_count": null,
   "id": "5344aa17-275c-4fdb-9338-aa2673d90b20",
   "metadata": {},
   "outputs": [],
   "source": []
  },
  {
   "cell_type": "markdown",
   "id": "eb967325-4484-477c-a1f6-b2151079e55a",
   "metadata": {},
   "source": [
    "Plot the predictions made during backtesting alongside the actuals to get a better understanding of the errors."
   ]
  },
  {
   "cell_type": "code",
   "execution_count": null,
   "id": "e084d1db-ff9a-43cb-be4e-e0794486d80b",
   "metadata": {},
   "outputs": [],
   "source": []
  },
  {
   "cell_type": "markdown",
   "id": "4d0cdd6a-fde5-4f0d-ba7f-852457701063",
   "metadata": {},
   "source": [
    "Why do you think one model is doing better than the other? What might help one of the models to improve?"
   ]
  },
  {
   "cell_type": "markdown",
   "id": "b14949a5-0628-4041-aca0-ed033d967bc0",
   "metadata": {},
   "source": []
  }
 ],
 "metadata": {
  "kernelspec": {
   "display_name": "Python 3 (ipykernel)",
   "language": "python",
   "name": "python3"
  },
  "language_info": {
   "codemirror_mode": {
    "name": "ipython",
    "version": 3
   },
   "file_extension": ".py",
   "mimetype": "text/x-python",
   "name": "python",
   "nbconvert_exporter": "python",
   "pygments_lexer": "ipython3",
   "version": "3.10.2"
  }
 },
 "nbformat": 4,
 "nbformat_minor": 5
}
