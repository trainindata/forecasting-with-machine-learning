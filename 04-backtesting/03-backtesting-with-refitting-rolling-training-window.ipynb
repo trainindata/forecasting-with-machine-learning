{
 "cells": [
  {
   "attachments": {},
   "cell_type": "markdown",
   "id": "28fd5b27",
   "metadata": {},
   "source": [
    "# Backtesting with refitting and rolling training window\n",
    "\n",
    "[Forecasting for machine learning](https://www.trainindata.com/p/forecasting-with-machine-learning)\n",
    "\n",
    "In this notebook we will show how to do **backtesting with refitting** on both **single and multiple time series** using a **direct forecasting** strategy. We will also have **exogenous features** and a **rolling training window**. We shall show an example with **multiple dependent time series (multivariate)** forecasting. We will use the `skforecast` package to help us do this.\n",
    "\n",
    "To obtain a robust estimate of the model's predictive capacity, a backtesting process is carried out. The process of backtesting consists of evaluating the performance of a predictive model by applying it retrospectively to historical data. Therefore, it is a special type of cross-validation applied to the previous period(s).\n",
    "\n",
    "Note: Since recording the videos, skforecast have made breaking changes to their API in newer versions (>= 0.14). This notebook has been updated for use with skforecast version 0.14 and above, which are the versions with a new API. If you are using older versions of skforecast (<0.14) see the migration guide here: https://skforecast.org/0.14.0/user_guides/migration-guide.html\n",
    "\n",
    "**Backtesting with refit and fixed training size**\n",
    "\n",
    "A technique similar to the previous one but, in this case, the training window rolls forward and the size of training remains constant. This is also known as time series cross-validation or walk-forward validation.\n",
    "\n",
    "![image](./images/backtesting_refit_fixed_train_size.gif)\n",
    "\n",
    "Image from [skforecast documentation](https://github.com/JoaquinAmatRodrigo/skforecast/blob/master/docs/img/backtesting_refit_fixed_train_size.gif)\n",
    "\n",
    "This notebook is adapted from the [skforecast example notebook](https://cienciadedatos.net/documentos/py27-time-series-forecasting-python-scikitlearn.html).\n",
    "\n"
   ]
  },
  {
   "attachments": {},
   "cell_type": "markdown",
   "id": "77a4bb4b",
   "metadata": {},
   "source": [
    "## Libraries"
   ]
  },
  {
   "cell_type": "code",
   "execution_count": 1,
   "id": "b15fba42",
   "metadata": {
    "ExecuteTime": {
     "end_time": "2022-09-20T10:50:15.488670Z",
     "start_time": "2022-09-20T10:50:15.468737Z"
    }
   },
   "outputs": [],
   "source": [
    "# Standard libraries\n",
    "import numpy as np\n",
    "import pandas as pd\n",
    "import matplotlib.pyplot as plt"
   ]
  },
  {
   "cell_type": "markdown",
   "id": "3284f26a-756e-409f-a43e-98a679d498d8",
   "metadata": {},
   "source": [
    "# Single time series"
   ]
  },
  {
   "attachments": {},
   "cell_type": "markdown",
   "id": "97f03864-ee4a-459d-9eec-03d14feb931e",
   "metadata": {},
   "source": [
    "## Data"
   ]
  },
  {
   "cell_type": "markdown",
   "id": "130ba259-6855-4ff2-85d0-ed440b186ee1",
   "metadata": {},
   "source": [
    "\n",
    "A time series is available with the monthly expenditure (millions of dollars) on corticosteroid drugs that the Australian health system had between 1991 and 2008. The data comes with two simulated exogenous variables. The data used in the examples of this document have been obtained from the magnificent book [Forecasting: Principles and Practice by Rob J Hyndman and George Athanasopoulos](https://otexts.com/fpp3/)."
   ]
  },
  {
   "cell_type": "code",
   "execution_count": 2,
   "id": "572cd254-41b9-470a-8339-7367d70b0cd1",
   "metadata": {},
   "outputs": [],
   "source": [
    "from skforecast.datasets import fetch_dataset"
   ]
  },
  {
   "cell_type": "code",
   "execution_count": 3,
   "id": "0c0024f6-5d9b-4e0d-a332-dfb71280d7e3",
   "metadata": {
    "ExecuteTime": {
     "end_time": "2022-09-20T09:48:03.761722Z",
     "start_time": "2022-09-20T09:48:02.297714Z"
    }
   },
   "outputs": [
    {
     "name": "stdout",
     "output_type": "stream",
     "text": [
      "h2o_exog\n",
      "--------\n",
      "Monthly expenditure ($AUD) on corticosteroid drugs that the Australian health\n",
      "system had between 1991 and 2008. Two additional variables (exog_1, exog_2) are\n",
      "simulated.\n",
      "Hyndman R (2023). fpp3: Data for Forecasting: Principles and Practice (3rd\n",
      "Edition). http://pkg.robjhyndman.com/fpp3package/,\n",
      "https://github.com/robjhyndman/fpp3package, http://OTexts.com/fpp3.\n",
      "Shape of the dataset: (195, 4)\n"
     ]
    },
    {
     "data": {
      "text/html": [
       "<div>\n",
       "<style scoped>\n",
       "    .dataframe tbody tr th:only-of-type {\n",
       "        vertical-align: middle;\n",
       "    }\n",
       "\n",
       "    .dataframe tbody tr th {\n",
       "        vertical-align: top;\n",
       "    }\n",
       "\n",
       "    .dataframe thead th {\n",
       "        text-align: right;\n",
       "    }\n",
       "</style>\n",
       "<table border=\"1\" class=\"dataframe\">\n",
       "  <thead>\n",
       "    <tr style=\"text-align: right;\">\n",
       "      <th></th>\n",
       "      <th>fecha</th>\n",
       "      <th>y</th>\n",
       "      <th>exog_1</th>\n",
       "      <th>exog_2</th>\n",
       "    </tr>\n",
       "  </thead>\n",
       "  <tbody>\n",
       "    <tr>\n",
       "      <th>0</th>\n",
       "      <td>1992-04-01</td>\n",
       "      <td>0.379808</td>\n",
       "      <td>0.958792</td>\n",
       "      <td>1.166029</td>\n",
       "    </tr>\n",
       "    <tr>\n",
       "      <th>1</th>\n",
       "      <td>1992-05-01</td>\n",
       "      <td>0.361801</td>\n",
       "      <td>0.951993</td>\n",
       "      <td>1.117859</td>\n",
       "    </tr>\n",
       "    <tr>\n",
       "      <th>2</th>\n",
       "      <td>1992-06-01</td>\n",
       "      <td>0.410534</td>\n",
       "      <td>0.952955</td>\n",
       "      <td>1.067942</td>\n",
       "    </tr>\n",
       "    <tr>\n",
       "      <th>3</th>\n",
       "      <td>1992-07-01</td>\n",
       "      <td>0.483389</td>\n",
       "      <td>0.958078</td>\n",
       "      <td>1.097376</td>\n",
       "    </tr>\n",
       "    <tr>\n",
       "      <th>4</th>\n",
       "      <td>1992-08-01</td>\n",
       "      <td>0.475463</td>\n",
       "      <td>0.956370</td>\n",
       "      <td>1.122199</td>\n",
       "    </tr>\n",
       "  </tbody>\n",
       "</table>\n",
       "</div>"
      ],
      "text/plain": [
       "        fecha         y    exog_1    exog_2\n",
       "0  1992-04-01  0.379808  0.958792  1.166029\n",
       "1  1992-05-01  0.361801  0.951993  1.117859\n",
       "2  1992-06-01  0.410534  0.952955  1.067942\n",
       "3  1992-07-01  0.483389  0.958078  1.097376\n",
       "4  1992-08-01  0.475463  0.956370  1.122199"
      ]
     },
     "execution_count": 3,
     "metadata": {},
     "output_type": "execute_result"
    }
   ],
   "source": [
    "# Load the data\n",
    "data = fetch_dataset(name=\"h2o_exog\", raw=True)\n",
    "data.head()"
   ]
  },
  {
   "cell_type": "markdown",
   "id": "7c0b42d3-62da-48d7-8aba-ef6cbe8c2325",
   "metadata": {},
   "source": [
    "The column `date` has been stored as a `string`. To convert it to `datetime` the `pd.to_datetime()` function can be use. Once in `datetime` format, and to make use of **Pandas** functionalities, it is set as an index. Also, since the data is monthly, the frequency is set as Monthly Started 'MS'."
   ]
  },
  {
   "cell_type": "code",
   "execution_count": 4,
   "id": "b2d49f02-c6df-4a66-8b4c-96a878230dbe",
   "metadata": {},
   "outputs": [
    {
     "data": {
      "text/html": [
       "<div>\n",
       "<style scoped>\n",
       "    .dataframe tbody tr th:only-of-type {\n",
       "        vertical-align: middle;\n",
       "    }\n",
       "\n",
       "    .dataframe tbody tr th {\n",
       "        vertical-align: top;\n",
       "    }\n",
       "\n",
       "    .dataframe thead th {\n",
       "        text-align: right;\n",
       "    }\n",
       "</style>\n",
       "<table border=\"1\" class=\"dataframe\">\n",
       "  <thead>\n",
       "    <tr style=\"text-align: right;\">\n",
       "      <th></th>\n",
       "      <th>y</th>\n",
       "      <th>exog_1</th>\n",
       "      <th>exog_2</th>\n",
       "    </tr>\n",
       "    <tr>\n",
       "      <th>date</th>\n",
       "      <th></th>\n",
       "      <th></th>\n",
       "      <th></th>\n",
       "    </tr>\n",
       "  </thead>\n",
       "  <tbody>\n",
       "    <tr>\n",
       "      <th>1992-04-01</th>\n",
       "      <td>0.379808</td>\n",
       "      <td>0.958792</td>\n",
       "      <td>1.166029</td>\n",
       "    </tr>\n",
       "    <tr>\n",
       "      <th>1992-05-01</th>\n",
       "      <td>0.361801</td>\n",
       "      <td>0.951993</td>\n",
       "      <td>1.117859</td>\n",
       "    </tr>\n",
       "    <tr>\n",
       "      <th>1992-06-01</th>\n",
       "      <td>0.410534</td>\n",
       "      <td>0.952955</td>\n",
       "      <td>1.067942</td>\n",
       "    </tr>\n",
       "    <tr>\n",
       "      <th>1992-07-01</th>\n",
       "      <td>0.483389</td>\n",
       "      <td>0.958078</td>\n",
       "      <td>1.097376</td>\n",
       "    </tr>\n",
       "    <tr>\n",
       "      <th>1992-08-01</th>\n",
       "      <td>0.475463</td>\n",
       "      <td>0.956370</td>\n",
       "      <td>1.122199</td>\n",
       "    </tr>\n",
       "  </tbody>\n",
       "</table>\n",
       "</div>"
      ],
      "text/plain": [
       "                   y    exog_1    exog_2\n",
       "date                                    \n",
       "1992-04-01  0.379808  0.958792  1.166029\n",
       "1992-05-01  0.361801  0.951993  1.117859\n",
       "1992-06-01  0.410534  0.952955  1.067942\n",
       "1992-07-01  0.483389  0.958078  1.097376\n",
       "1992-08-01  0.475463  0.956370  1.122199"
      ]
     },
     "execution_count": 4,
     "metadata": {},
     "output_type": "execute_result"
    }
   ],
   "source": [
    "# Data preparation\n",
    "data = data.rename(columns={\"fecha\": \"date\"})\n",
    "data[\"date\"] = pd.to_datetime(data[\"date\"], format=\"%Y-%m-%d\")\n",
    "data = data.set_index(\"date\")\n",
    "data = data.asfreq(\"MS\")\n",
    "data = data.sort_index()\n",
    "data.head()"
   ]
  },
  {
   "cell_type": "markdown",
   "id": "0f7de81b-e224-470b-a725-3c9c162fc24e",
   "metadata": {},
   "source": [
    "When using the `asfreq()` method in Pandas, any gaps in the time series will be filled with `NaN` values to match the specified frequency. Therefore, it is essential to check for any missing values that may occur after this transformation."
   ]
  },
  {
   "cell_type": "code",
   "execution_count": 5,
   "id": "54155381-a5a8-4f70-96d2-99bb81243db1",
   "metadata": {},
   "outputs": [
    {
     "name": "stdout",
     "output_type": "stream",
     "text": [
      "Number of rows with missing values: 0\n"
     ]
    }
   ],
   "source": [
    "# Check for missing values\n",
    "print(f\"Number of rows with missing values: {data.isnull().any(axis=1).sum()}\")"
   ]
  },
  {
   "cell_type": "code",
   "execution_count": 6,
   "id": "d80daf40-d328-4810-858d-c437434cff4a",
   "metadata": {},
   "outputs": [
    {
     "data": {
      "text/plain": [
       "Text(0.5, 1.0, 'Monthly expenditure ($AUD) on corticosteroid drugs')"
      ]
     },
     "execution_count": 6,
     "metadata": {},
     "output_type": "execute_result"
    },
    {
     "data": {
      "image/png": "[encoded data removed]",
      "text/plain": [
       "<Figure size 640x480 with 1 Axes>"
      ]
     },
     "metadata": {},
     "output_type": "display_data"
    }
   ],
   "source": [
    "# Plot data\n",
    "ax = data.plot()\n",
    "ax.set_title(\"Monthly expenditure ($AUD) on corticosteroid drugs\")"
   ]
  },
  {
   "cell_type": "markdown",
   "id": "fe8ed9d3-34cd-47f4-b700-62ae7392ef8c",
   "metadata": {},
   "source": [
    "## Model (direct forecasting)"
   ]
  },
  {
   "cell_type": "code",
   "execution_count": 7,
   "id": "91db26b8-628a-48fb-b317-5fb04a017298",
   "metadata": {},
   "outputs": [],
   "source": [
    "# Single time series forecasters (direct)\n",
    "from skforecast.direct import ForecasterDirect\n",
    "\n",
    "# Preprocessing and features\n",
    "from sklearn.preprocessing import StandardScaler\n",
    "\n",
    "# Traditional machine learning models\n",
    "from sklearn.linear_model import Ridge\n",
    "from sklearn.ensemble import RandomForestRegressor\n",
    "from lightgbm import LGBMRegressor"
   ]
  },
  {
   "cell_type": "markdown",
   "id": "1ef3e98d-1d69-4fe5-b8b8-5a081dae7014",
   "metadata": {},
   "source": [
    "With the `ForecasterDirect` class, a forecasting model is created and trained using a `Ridge` regressor with a time window of 6 lags. This means that the model uses the previous 6 months as predictors."
   ]
  },
  {
   "cell_type": "code",
   "execution_count": 8,
   "id": "13ad7349-6b0c-4cd6-8b69-1d4126d455cd",
   "metadata": {},
   "outputs": [],
   "source": [
    "# Create forecaster\n",
    "steps = 7  # Number of steps to forecast\n",
    "\n",
    "forecaster = ForecasterDirect(\n",
    "    regressor=Ridge(alpha=1, random_state=123),\n",
    "    lags=6,\n",
    "    steps=steps,\n",
    "    transformer_y=StandardScaler(),  # Scaling helpful for\n",
    "    transformer_exog=StandardScaler(),  # linear models.\n",
    ")"
   ]
  },
  {
   "cell_type": "markdown",
   "id": "c0d86196-eeb0-45e0-9799-04b0a2e104bc",
   "metadata": {},
   "source": [
    "## Backtesting"
   ]
  },
  {
   "cell_type": "markdown",
   "id": "c2d0bf49-a935-4d99-8ab6-94f8e2941db0",
   "metadata": {},
   "source": [
    "![image](./images/backtesting_refit_fixed_train_size.gif)\n",
    "\n",
    "Image from [skforecast documentation](https://github.com/JoaquinAmatRodrigo/skforecast/blob/master/docs/img/backtesting_refit_fixed_train_size.gif)\n"
   ]
  },
  {
   "cell_type": "code",
   "execution_count": 9,
   "id": "e2944cd1-df17-4488-b15f-aab4d97b3051",
   "metadata": {},
   "outputs": [],
   "source": [
    "from skforecast.model_selection import backtesting_forecaster, TimeSeriesFold"
   ]
  },
  {
   "cell_type": "markdown",
   "id": "407f6d01-baf5-48c2-8f85-37b7ca6a1141",
   "metadata": {},
   "source": [
    "Note: The arguments needed to achieve this configuration are `refit=True` and `fixed_train_size=True`."
   ]
  },
  {
   "cell_type": "code",
   "execution_count": 10,
   "id": "723b5902-306a-4784-8db2-d54487fd61a5",
   "metadata": {},
   "outputs": [
    {
     "name": "stdout",
     "output_type": "stream",
     "text": [
      "Information of folds\n",
      "--------------------\n",
      "Number of observations used for initial training: 174\n",
      "Number of observations used for backtesting: 21\n",
      "    Number of folds: 3\n",
      "    Number skipped folds: 0 \n",
      "    Number of steps per fold: 7\n",
      "    Number of steps to exclude between last observed data (last window) and predictions (gap): 0\n",
      "\n",
      "Fold: 0\n",
      "    Training:   1992-04-01 00:00:00 -- 2006-09-01 00:00:00  (n=174)\n",
      "    Validation: 2006-10-01 00:00:00 -- 2007-04-01 00:00:00  (n=7)\n",
      "Fold: 1\n",
      "    Training:   1992-11-01 00:00:00 -- 2007-04-01 00:00:00  (n=174)\n",
      "    Validation: 2007-05-01 00:00:00 -- 2007-11-01 00:00:00  (n=7)\n",
      "Fold: 2\n",
      "    Training:   1993-06-01 00:00:00 -- 2007-11-01 00:00:00  (n=174)\n",
      "    Validation: 2007-12-01 00:00:00 -- 2008-06-01 00:00:00  (n=7)\n",
      "\n"
     ]
    },
    {
     "data": {
      "application/vnd.jupyter.widget-view+json": {
       "model_id": "54b2a4c3f26243f4bc046c76781c71f7",
       "version_major": 2,
       "version_minor": 0
      },
      "text/plain": [
       "  0%|          | 0/3 [00:00<?, ?it/s]"
      ]
     },
     "metadata": {},
     "output_type": "display_data"
    },
    {
     "name": "stdout",
     "output_type": "stream",
     "text": [
      "Backtest metric (MSE):    mean_squared_error\n",
      "0            0.011914\n"
     ]
    }
   ],
   "source": [
    "# Backtesting\n",
    "\n",
    "# Forecast horizon & number of steps to move forecast origin\n",
    "steps = 7\n",
    "\n",
    "# Number of datapoints to test over\n",
    "n_backtesting = steps * 3\n",
    "\n",
    "# Initial training set size\n",
    "initial_train_size = len(data) - n_backtesting\n",
    "\n",
    "# Define how time series will be split during backtesting\n",
    "cv = TimeSeriesFold(\n",
    "    steps                 = steps,\n",
    "    initial_train_size    = initial_train_size,\n",
    "    skip_folds            = None,\n",
    "    refit                 = True,\n",
    "    fixed_train_size      = True,\n",
    "    allow_incomplete_fold = True,\n",
    ")\n",
    "\n",
    "# Run backtesting\n",
    "metric, predictions = backtesting_forecaster(\n",
    "    forecaster=forecaster,\n",
    "    y=data[\"y\"],\n",
    "    exog=data[[\"exog_1\", \"exog_2\"]],\n",
    "    cv=cv,\n",
    "    metric=\"mean_squared_error\",\n",
    "    verbose=True,\n",
    "    show_progress=True,\n",
    ")\n",
    "\n",
    "print(f\"Backtest metric (MSE): {metric}\")"
   ]
  },
  {
   "cell_type": "code",
   "execution_count": 11,
   "id": "80929269-1fa2-49a8-8b00-f24d579d1088",
   "metadata": {},
   "outputs": [
    {
     "data": {
      "text/html": [
       "<div>\n",
       "<style scoped>\n",
       "    .dataframe tbody tr th:only-of-type {\n",
       "        vertical-align: middle;\n",
       "    }\n",
       "\n",
       "    .dataframe tbody tr th {\n",
       "        vertical-align: top;\n",
       "    }\n",
       "\n",
       "    .dataframe thead th {\n",
       "        text-align: right;\n",
       "    }\n",
       "</style>\n",
       "<table border=\"1\" class=\"dataframe\">\n",
       "  <thead>\n",
       "    <tr style=\"text-align: right;\">\n",
       "      <th></th>\n",
       "      <th>mean_squared_error</th>\n",
       "    </tr>\n",
       "  </thead>\n",
       "  <tbody>\n",
       "    <tr>\n",
       "      <th>0</th>\n",
       "      <td>0.011914</td>\n",
       "    </tr>\n",
       "  </tbody>\n",
       "</table>\n",
       "</div>"
      ],
      "text/plain": [
       "   mean_squared_error\n",
       "0            0.011914"
      ]
     },
     "execution_count": 11,
     "metadata": {},
     "output_type": "execute_result"
    }
   ],
   "source": [
    "metric"
   ]
  },
  {
   "cell_type": "code",
   "execution_count": 12,
   "id": "3cb07139-2406-47db-8ee7-a27faefc0d99",
   "metadata": {},
   "outputs": [
    {
     "data": {
      "text/html": [
       "<div>\n",
       "<style scoped>\n",
       "    .dataframe tbody tr th:only-of-type {\n",
       "        vertical-align: middle;\n",
       "    }\n",
       "\n",
       "    .dataframe tbody tr th {\n",
       "        vertical-align: top;\n",
       "    }\n",
       "\n",
       "    .dataframe thead th {\n",
       "        text-align: right;\n",
       "    }\n",
       "</style>\n",
       "<table border=\"1\" class=\"dataframe\">\n",
       "  <thead>\n",
       "    <tr style=\"text-align: right;\">\n",
       "      <th></th>\n",
       "      <th>pred</th>\n",
       "    </tr>\n",
       "  </thead>\n",
       "  <tbody>\n",
       "    <tr>\n",
       "      <th>2006-10-01</th>\n",
       "      <td>1.128978</td>\n",
       "    </tr>\n",
       "    <tr>\n",
       "      <th>2006-11-01</th>\n",
       "      <td>1.117235</td>\n",
       "    </tr>\n",
       "    <tr>\n",
       "      <th>2006-12-01</th>\n",
       "      <td>1.088585</td>\n",
       "    </tr>\n",
       "    <tr>\n",
       "      <th>2007-01-01</th>\n",
       "      <td>1.072753</td>\n",
       "    </tr>\n",
       "    <tr>\n",
       "      <th>2007-02-01</th>\n",
       "      <td>0.923374</td>\n",
       "    </tr>\n",
       "  </tbody>\n",
       "</table>\n",
       "</div>"
      ],
      "text/plain": [
       "                pred\n",
       "2006-10-01  1.128978\n",
       "2006-11-01  1.117235\n",
       "2006-12-01  1.088585\n",
       "2007-01-01  1.072753\n",
       "2007-02-01  0.923374"
      ]
     },
     "execution_count": 12,
     "metadata": {},
     "output_type": "execute_result"
    }
   ],
   "source": [
    "predictions.head()"
   ]
  },
  {
   "cell_type": "code",
   "execution_count": 13,
   "id": "84b2e755-fd9c-4990-b51d-c9fd2834e3c6",
   "metadata": {},
   "outputs": [
    {
     "data": {
      "image/png": "[encoded data removed]",
      "text/plain": [
       "<Figure size 600x250 with 1 Axes>"
      ]
     },
     "metadata": {},
     "output_type": "display_data"
    }
   ],
   "source": [
    "fig, ax = plt.subplots(figsize=(6, 2.5))\n",
    "data[\"y\"].plot(ax=ax, label=\"train\")\n",
    "predictions[\"pred\"].plot(ax=ax, label=\"backtest\")\n",
    "ax.legend();"
   ]
  },
  {
   "cell_type": "code",
   "execution_count": 14,
   "id": "5861ef74-9c5d-47fd-af1e-76eac7f7713d",
   "metadata": {},
   "outputs": [
    {
     "name": "stdout",
     "output_type": "stream",
     "text": [
      "Test error (MSE) 0.011914023663703735\n"
     ]
    }
   ],
   "source": [
    "from sklearn.metrics import mean_squared_error\n",
    "\n",
    "error_mse = mean_squared_error(\n",
    "    y_true=data[\"y\"].loc[predictions.index], y_pred=predictions\n",
    ")\n",
    "\n",
    "print(f\"Test error (MSE) {error_mse}\")"
   ]
  },
  {
   "cell_type": "markdown",
   "id": "45fac5ba-9702-46d9-a777-1420ff5d3059",
   "metadata": {},
   "source": [
    "## Custom error metric"
   ]
  },
  {
   "cell_type": "markdown",
   "id": "adcf6c6d-5a5a-456e-8da3-95654ff6a910",
   "metadata": {},
   "source": [
    "In the backtesting (`backtesting_forecaster`) and hyperparameter optimization (`grid_search_forecaster`) processes, besides the frequently used metrics such as `mean_squared_error` or `mean_absolute_error`, it is possible to use any custom function as long as:\n",
    "\n",
    "+ It includes the arguments:\n",
    "\n",
    "    + `y_true`: true values of the series.\n",
    "\n",
    "    + `y_pred`: predicted values.\n",
    "\n",
    "+ It returns a numeric value (`float` or `int`).\n",
    "\n",
    "+ The metric is reduced as the model improves. Only applies in the `grid_search_forecaster` function if `return_best=True` (train the forecaster with the best model).\n",
    "\n",
    "It allows evaluating the predictive capability of the model in a wide range of scenarios, for example:\n",
    "\n",
    "+ Consider only certain months, days, hours...\n",
    "\n",
    "+ Consider only dates that are holidays.\n",
    "\n",
    "+ Consider only the last step of the predicted horizon.\n",
    "\n",
    "The following example shows how to calculate the mean average percentage error (MAPE) which is: \n",
    "\n",
    "$$\n",
    "100*\\frac{1}{N}\\sum_i{|\\frac{y_i - \\hat{y}_i}{y_i }}|\n",
    "$$"
   ]
  },
  {
   "cell_type": "code",
   "execution_count": 15,
   "id": "a2a0f4d7-a361-45a0-bc45-7f75b130f323",
   "metadata": {},
   "outputs": [],
   "source": [
    "# Custom metric\n",
    "def custom_metric(y_true, y_pred):\n",
    "    \"\"\"\n",
    "    Calculate the MAPE\n",
    "    \"\"\"\n",
    "    return np.mean(np.abs((y_true - y_pred) / y_true)) * 100"
   ]
  },
  {
   "cell_type": "code",
   "execution_count": 16,
   "id": "7c7b2e01-2a23-4050-aaec-8496ea2d3c85",
   "metadata": {},
   "outputs": [
    {
     "name": "stdout",
     "output_type": "stream",
     "text": [
      "Information of folds\n",
      "--------------------\n",
      "Number of observations used for initial training: 174\n",
      "Number of observations used for backtesting: 21\n",
      "    Number of folds: 3\n",
      "    Number skipped folds: 0 \n",
      "    Number of steps per fold: 7\n",
      "    Number of steps to exclude between last observed data (last window) and predictions (gap): 0\n",
      "\n",
      "Fold: 0\n",
      "    Training:   1992-04-01 00:00:00 -- 2006-09-01 00:00:00  (n=174)\n",
      "    Validation: 2006-10-01 00:00:00 -- 2007-04-01 00:00:00  (n=7)\n",
      "Fold: 1\n",
      "    Training:   1992-11-01 00:00:00 -- 2007-04-01 00:00:00  (n=174)\n",
      "    Validation: 2007-05-01 00:00:00 -- 2007-11-01 00:00:00  (n=7)\n",
      "Fold: 2\n",
      "    Training:   1993-06-01 00:00:00 -- 2007-11-01 00:00:00  (n=174)\n",
      "    Validation: 2007-12-01 00:00:00 -- 2008-06-01 00:00:00  (n=7)\n",
      "\n"
     ]
    },
    {
     "data": {
      "application/vnd.jupyter.widget-view+json": {
       "model_id": "fddddf36bf124a5092eea89956491749",
       "version_major": 2,
       "version_minor": 0
      },
      "text/plain": [
       "  0%|          | 0/3 [00:00<?, ?it/s]"
      ]
     },
     "metadata": {},
     "output_type": "display_data"
    },
    {
     "name": "stdout",
     "output_type": "stream",
     "text": [
      "Backtest metric (MAPE):    custom_metric\n",
      "0       9.473809\n"
     ]
    }
   ],
   "source": [
    "# Backtesting\n",
    "# Number of datapoints to test over\n",
    "n_backtesting = steps * 3\n",
    "\n",
    "# Initial training set size\n",
    "initial_train_size = len(data) - n_backtesting\n",
    "\n",
    "# Define how time series will be split during backtesting\n",
    "cv = TimeSeriesFold(\n",
    "    steps                 = steps,\n",
    "    initial_train_size    = initial_train_size,\n",
    "    skip_folds            = None,\n",
    "    refit                 = True,\n",
    "    fixed_train_size      = True,\n",
    "    allow_incomplete_fold = True,\n",
    ")\n",
    "\n",
    "\n",
    "# Run backtesting\n",
    "metric, predictions = backtesting_forecaster(\n",
    "    forecaster=forecaster,\n",
    "    y=data[\"y\"],\n",
    "    exog=data[[\"exog_1\", \"exog_2\"]],\n",
    "    cv=cv,\n",
    "    metric=custom_metric,\n",
    "    verbose=True,\n",
    "    show_progress=True,\n",
    ")\n",
    "\n",
    "print(f\"Backtest metric (MAPE): {metric}\")"
   ]
  },
  {
   "cell_type": "markdown",
   "id": "35d9c37f-6199-476d-b8d8-14aef40dc1ce",
   "metadata": {},
   "source": [
    "# Multiple dependent time series (multivariate)"
   ]
  },
  {
   "cell_type": "markdown",
   "id": "08f55a76-d96c-47b1-bfb4-401fbf242988",
   "metadata": {},
   "source": [
    "This dataset contains hourly air pollutant measurements in the City of Valencia.\n",
    "\n",
    "source: Red de Vigilancia y Control de la Contaminación Atmosférica, 46250054-València - Centre, https://mediambient.gva.es/es/web/calidad-ambiental/datos-historicos"
   ]
  },
  {
   "cell_type": "markdown",
   "id": "31101e08-e90b-407e-b3f2-915942c0b927",
   "metadata": {},
   "source": [
    "## Data"
   ]
  },
  {
   "cell_type": "code",
   "execution_count": 17,
   "id": "ef84d020-0e04-4ada-a597-45cfe2dfc857",
   "metadata": {},
   "outputs": [],
   "source": [
    "from skforecast.datasets import fetch_dataset"
   ]
  },
  {
   "cell_type": "code",
   "execution_count": 18,
   "id": "05b87597-c123-4f6b-b652-a07d2077a687",
   "metadata": {},
   "outputs": [
    {
     "name": "stdout",
     "output_type": "stream",
     "text": [
      "air_quality_valencia\n",
      "--------------------\n",
      "Hourly measures of several air chemical pollutant at Valencia city (Avd.\n",
      "Francia) from 2019-01-01 to 20213-12-31. Including the following variables:\n",
      "pm2.5 (µg/m³), CO (mg/m³), NO (µg/m³), NO2 (µg/m³), PM10 (µg/m³), NOx (µg/m³),\n",
      "O3 (µg/m³), Veloc. (m/s), Direc. (degrees), SO2 (µg/m³).\n",
      "Red de Vigilancia y Control de la Contaminación Atmosférica, 46250047-València -\n",
      "Av. França, https://mediambient.gva.es/es/web/calidad-ambiental/datos-\n",
      "historicos.\n",
      "Shape of the dataset: (43824, 11)\n"
     ]
    },
    {
     "data": {
      "text/html": [
       "<div>\n",
       "<style scoped>\n",
       "    .dataframe tbody tr th:only-of-type {\n",
       "        vertical-align: middle;\n",
       "    }\n",
       "\n",
       "    .dataframe tbody tr th {\n",
       "        vertical-align: top;\n",
       "    }\n",
       "\n",
       "    .dataframe thead th {\n",
       "        text-align: right;\n",
       "    }\n",
       "</style>\n",
       "<table border=\"1\" class=\"dataframe\">\n",
       "  <thead>\n",
       "    <tr style=\"text-align: right;\">\n",
       "      <th></th>\n",
       "      <th>datetime</th>\n",
       "      <th>so2</th>\n",
       "      <th>co</th>\n",
       "      <th>no</th>\n",
       "      <th>no2</th>\n",
       "      <th>pm10</th>\n",
       "      <th>nox</th>\n",
       "      <th>o3</th>\n",
       "      <th>veloc.</th>\n",
       "      <th>direc.</th>\n",
       "      <th>pm2.5</th>\n",
       "    </tr>\n",
       "  </thead>\n",
       "  <tbody>\n",
       "    <tr>\n",
       "      <th>0</th>\n",
       "      <td>2019-01-01 00:00:00</td>\n",
       "      <td>8.0</td>\n",
       "      <td>0.2</td>\n",
       "      <td>3.0</td>\n",
       "      <td>36.0</td>\n",
       "      <td>22.0</td>\n",
       "      <td>40.0</td>\n",
       "      <td>16.0</td>\n",
       "      <td>0.5</td>\n",
       "      <td>262.0</td>\n",
       "      <td>19.0</td>\n",
       "    </tr>\n",
       "    <tr>\n",
       "      <th>1</th>\n",
       "      <td>2019-01-01 01:00:00</td>\n",
       "      <td>8.0</td>\n",
       "      <td>0.1</td>\n",
       "      <td>2.0</td>\n",
       "      <td>40.0</td>\n",
       "      <td>32.0</td>\n",
       "      <td>44.0</td>\n",
       "      <td>6.0</td>\n",
       "      <td>0.6</td>\n",
       "      <td>248.0</td>\n",
       "      <td>26.0</td>\n",
       "    </tr>\n",
       "    <tr>\n",
       "      <th>2</th>\n",
       "      <td>2019-01-01 02:00:00</td>\n",
       "      <td>8.0</td>\n",
       "      <td>0.1</td>\n",
       "      <td>11.0</td>\n",
       "      <td>42.0</td>\n",
       "      <td>36.0</td>\n",
       "      <td>58.0</td>\n",
       "      <td>3.0</td>\n",
       "      <td>0.3</td>\n",
       "      <td>224.0</td>\n",
       "      <td>31.0</td>\n",
       "    </tr>\n",
       "    <tr>\n",
       "      <th>3</th>\n",
       "      <td>2019-01-01 03:00:00</td>\n",
       "      <td>10.0</td>\n",
       "      <td>0.1</td>\n",
       "      <td>15.0</td>\n",
       "      <td>41.0</td>\n",
       "      <td>35.0</td>\n",
       "      <td>63.0</td>\n",
       "      <td>3.0</td>\n",
       "      <td>0.2</td>\n",
       "      <td>220.0</td>\n",
       "      <td>30.0</td>\n",
       "    </tr>\n",
       "    <tr>\n",
       "      <th>4</th>\n",
       "      <td>2019-01-01 04:00:00</td>\n",
       "      <td>11.0</td>\n",
       "      <td>0.1</td>\n",
       "      <td>16.0</td>\n",
       "      <td>39.0</td>\n",
       "      <td>36.0</td>\n",
       "      <td>63.0</td>\n",
       "      <td>3.0</td>\n",
       "      <td>0.4</td>\n",
       "      <td>221.0</td>\n",
       "      <td>30.0</td>\n",
       "    </tr>\n",
       "  </tbody>\n",
       "</table>\n",
       "</div>"
      ],
      "text/plain": [
       "              datetime   so2   co    no   no2  pm10   nox    o3  veloc.  \\\n",
       "0  2019-01-01 00:00:00   8.0  0.2   3.0  36.0  22.0  40.0  16.0     0.5   \n",
       "1  2019-01-01 01:00:00   8.0  0.1   2.0  40.0  32.0  44.0   6.0     0.6   \n",
       "2  2019-01-01 02:00:00   8.0  0.1  11.0  42.0  36.0  58.0   3.0     0.3   \n",
       "3  2019-01-01 03:00:00  10.0  0.1  15.0  41.0  35.0  63.0   3.0     0.2   \n",
       "4  2019-01-01 04:00:00  11.0  0.1  16.0  39.0  36.0  63.0   3.0     0.4   \n",
       "\n",
       "   direc.  pm2.5  \n",
       "0   262.0   19.0  \n",
       "1   248.0   26.0  \n",
       "2   224.0   31.0  \n",
       "3   220.0   30.0  \n",
       "4   221.0   30.0  "
      ]
     },
     "execution_count": 18,
     "metadata": {},
     "output_type": "execute_result"
    }
   ],
   "source": [
    "# Load the data\n",
    "data = fetch_dataset(name=\"air_quality_valencia\", raw=True)\n",
    "data.head()"
   ]
  },
  {
   "cell_type": "code",
   "execution_count": 19,
   "id": "d88c0298-ea39-475e-b478-93d22ce105a2",
   "metadata": {},
   "outputs": [
    {
     "name": "stderr",
     "output_type": "stream",
     "text": [
      "/var/folders/xw/0ks6s8x53lvf4p3xdqzfh9300000gn/T/ipykernel_19888/3454319180.py:4: FutureWarning: 'H' is deprecated and will be removed in a future version, please use 'h' instead.\n",
      "  data = data.asfreq(\"H\")\n"
     ]
    },
    {
     "data": {
      "text/html": [
       "<div>\n",
       "<style scoped>\n",
       "    .dataframe tbody tr th:only-of-type {\n",
       "        vertical-align: middle;\n",
       "    }\n",
       "\n",
       "    .dataframe tbody tr th {\n",
       "        vertical-align: top;\n",
       "    }\n",
       "\n",
       "    .dataframe thead th {\n",
       "        text-align: right;\n",
       "    }\n",
       "</style>\n",
       "<table border=\"1\" class=\"dataframe\">\n",
       "  <thead>\n",
       "    <tr style=\"text-align: right;\">\n",
       "      <th></th>\n",
       "      <th>co</th>\n",
       "      <th>so2</th>\n",
       "      <th>pm2.5</th>\n",
       "    </tr>\n",
       "    <tr>\n",
       "      <th>datetime</th>\n",
       "      <th></th>\n",
       "      <th></th>\n",
       "      <th></th>\n",
       "    </tr>\n",
       "  </thead>\n",
       "  <tbody>\n",
       "    <tr>\n",
       "      <th>2019-01-01 00:00:00</th>\n",
       "      <td>0.2</td>\n",
       "      <td>8.0</td>\n",
       "      <td>19.0</td>\n",
       "    </tr>\n",
       "    <tr>\n",
       "      <th>2019-01-01 01:00:00</th>\n",
       "      <td>0.1</td>\n",
       "      <td>8.0</td>\n",
       "      <td>26.0</td>\n",
       "    </tr>\n",
       "    <tr>\n",
       "      <th>2019-01-01 02:00:00</th>\n",
       "      <td>0.1</td>\n",
       "      <td>8.0</td>\n",
       "      <td>31.0</td>\n",
       "    </tr>\n",
       "    <tr>\n",
       "      <th>2019-01-01 03:00:00</th>\n",
       "      <td>0.1</td>\n",
       "      <td>10.0</td>\n",
       "      <td>30.0</td>\n",
       "    </tr>\n",
       "    <tr>\n",
       "      <th>2019-01-01 04:00:00</th>\n",
       "      <td>0.1</td>\n",
       "      <td>11.0</td>\n",
       "      <td>30.0</td>\n",
       "    </tr>\n",
       "  </tbody>\n",
       "</table>\n",
       "</div>"
      ],
      "text/plain": [
       "                      co   so2  pm2.5\n",
       "datetime                             \n",
       "2019-01-01 00:00:00  0.2   8.0   19.0\n",
       "2019-01-01 01:00:00  0.1   8.0   26.0\n",
       "2019-01-01 02:00:00  0.1   8.0   31.0\n",
       "2019-01-01 03:00:00  0.1  10.0   30.0\n",
       "2019-01-01 04:00:00  0.1  11.0   30.0"
      ]
     },
     "execution_count": 19,
     "metadata": {},
     "output_type": "execute_result"
    }
   ],
   "source": [
    "# Data preprocessing\n",
    "data[\"datetime\"] = pd.to_datetime(data[\"datetime\"])\n",
    "data = data.set_index(\"datetime\")\n",
    "data = data.asfreq(\"H\")\n",
    "data = data.sort_index()\n",
    "data = data[[\"co\", \"so2\", \"pm2.5\"]]\n",
    "data.head()"
   ]
  },
  {
   "cell_type": "code",
   "execution_count": 20,
   "id": "3f4d4dde-8091-4be4-969f-d51128466f9d",
   "metadata": {},
   "outputs": [
    {
     "data": {
      "text/plain": [
       "co       True\n",
       "so2      True\n",
       "pm2.5    True\n",
       "dtype: bool"
      ]
     },
     "execution_count": 20,
     "metadata": {},
     "output_type": "execute_result"
    }
   ],
   "source": [
    "data.isnull().any()"
   ]
  },
  {
   "cell_type": "code",
   "execution_count": 21,
   "id": "01851651-4273-4860-a4f8-6d3a76e25c04",
   "metadata": {},
   "outputs": [],
   "source": [
    "# Impute missing values with forward filling\n",
    "data = data.ffill()"
   ]
  },
  {
   "cell_type": "code",
   "execution_count": 22,
   "id": "26466ea2-7db5-4339-8e91-139bcc6f87dd",
   "metadata": {},
   "outputs": [
    {
     "data": {
      "image/png": "[encoded data removed]",
      "text/plain": [
       "<Figure size 900x500 with 3 Axes>"
      ]
     },
     "metadata": {},
     "output_type": "display_data"
    }
   ],
   "source": [
    "# Plot time series\n",
    "fig, axes = plt.subplots(nrows=3, ncols=1, figsize=(9, 5), sharex=True)\n",
    "\n",
    "data[\"co\"].plot(ax=axes[0])\n",
    "axes[0].set_xlabel(\"\")\n",
    "axes[0].set_ylabel(\"Concentration (ug/m^3)\")\n",
    "axes[0].set_title(\"CO\")\n",
    "\n",
    "data[\"so2\"].plot(ax=axes[1])\n",
    "axes[1].set_xlabel(\"\")\n",
    "axes[1].set_ylabel(\"Concentration (ug/m^3)\")\n",
    "axes[1].set_title(\"SO2\")\n",
    "\n",
    "data[\"pm2.5\"].plot(ax=axes[2])\n",
    "axes[2].set_xlabel(\"\")\n",
    "axes[2].set_ylabel(\"Concentration (ug/m^3)\")\n",
    "axes[2].set_title(\"PM2.5\")\n",
    "\n",
    "fig.tight_layout()\n",
    "plt.show();"
   ]
  },
  {
   "cell_type": "markdown",
   "id": "0b5c285a-071a-4fe9-8c30-b53f2b6d22ec",
   "metadata": {},
   "source": [
    "Let's add the day of the week to use as an exogenous feature."
   ]
  },
  {
   "cell_type": "code",
   "execution_count": 23,
   "id": "d4b0431d-618f-469d-b79a-32671a055cc9",
   "metadata": {},
   "outputs": [],
   "source": [
    "data[\"day_of_week\"] = data.index.weekday"
   ]
  },
  {
   "cell_type": "markdown",
   "id": "74a5bab9-469e-4501-9c67-4ca7eb8a5374",
   "metadata": {},
   "source": [
    "## Model (Dependent time series and direct forecasting)"
   ]
  },
  {
   "cell_type": "code",
   "execution_count": 24,
   "id": "9d16835b-e313-4fc2-9d39-0768dca1b28e",
   "metadata": {},
   "outputs": [],
   "source": [
    "# Preprocessing and features\n",
    "from sklearn.preprocessing import StandardScaler\n",
    "\n",
    "# Traditional machine learning models\n",
    "from sklearn.linear_model import Ridge\n",
    "from sklearn.ensemble import RandomForestRegressor\n",
    "from lightgbm import LGBMRegressor\n",
    "\n",
    "# Multiple dependent series forecasting (Direct)\n",
    "from skforecast.direct import ForecasterDirectMultiVariate"
   ]
  },
  {
   "cell_type": "code",
   "execution_count": 25,
   "id": "355dd0e2-5b31-43c8-aafb-d5f0e7b7506b",
   "metadata": {},
   "outputs": [],
   "source": [
    "# Define the forecaster\n",
    "forecaster = ForecasterDirectMultiVariate(\n",
    "    regressor=Ridge(alpha=1),\n",
    "    level=\"co\",\n",
    "    lags=31,\n",
    "    steps=24,\n",
    "    transformer_series=StandardScaler(),\n",
    "    transformer_exog=StandardScaler(),\n",
    ")"
   ]
  },
  {
   "cell_type": "markdown",
   "id": "99aa1467-804b-4c30-8694-1d614c237dc7",
   "metadata": {},
   "source": [
    "## Backtesting"
   ]
  },
  {
   "cell_type": "markdown",
   "id": "db5df892-9bcf-4080-ab50-2fb42ac94fe5",
   "metadata": {},
   "source": [
    "![image](./images/backtesting_refit_fixed_train_size.gif)\n",
    "\n",
    "Image from [skforecast documentation](https://github.com/JoaquinAmatRodrigo/skforecast/blob/master/docs/img/backtesting_refit_fixed_train_size.gif)\n"
   ]
  },
  {
   "cell_type": "code",
   "execution_count": 26,
   "id": "595a9bc1-8b40-46a0-86cf-b375d135bcec",
   "metadata": {},
   "outputs": [],
   "source": [
    "from skforecast.model_selection import backtesting_forecaster_multiseries"
   ]
  },
  {
   "cell_type": "markdown",
   "id": "4bd44402-6c3e-49cb-ba69-09ce17d6df05",
   "metadata": {},
   "source": [
    "Note: The arguments needed to achieve this configuration are `refit=True` and `fixed_train_size=True`.\n"
   ]
  },
  {
   "cell_type": "code",
   "execution_count": 27,
   "id": "55f7c3ed-8e0c-4746-a03d-0c45eb6501c6",
   "metadata": {},
   "outputs": [
    {
     "name": "stdout",
     "output_type": "stream",
     "text": [
      "Information of folds\n",
      "--------------------\n",
      "Number of observations used for initial training: 43752\n",
      "Number of observations used for backtesting: 72\n",
      "    Number of folds: 3\n",
      "    Number skipped folds: 0 \n",
      "    Number of steps per fold: 24\n",
      "    Number of steps to exclude between last observed data (last window) and predictions (gap): 0\n",
      "\n",
      "Fold: 0\n",
      "    Training:   2019-01-01 00:00:00 -- 2023-12-28 23:00:00  (n=43752)\n",
      "    Validation: 2023-12-29 00:00:00 -- 2023-12-29 23:00:00  (n=24)\n",
      "Fold: 1\n",
      "    Training:   2019-01-02 00:00:00 -- 2023-12-29 23:00:00  (n=43752)\n",
      "    Validation: 2023-12-30 00:00:00 -- 2023-12-30 23:00:00  (n=24)\n",
      "Fold: 2\n",
      "    Training:   2019-01-03 00:00:00 -- 2023-12-30 23:00:00  (n=43752)\n",
      "    Validation: 2023-12-31 00:00:00 -- 2023-12-31 23:00:00  (n=24)\n",
      "\n"
     ]
    },
    {
     "name": "stderr",
     "output_type": "stream",
     "text": [
      "/Users/kishanmanani/.pyenv/versions/3.12.3/envs/general/lib/python3.12/site-packages/skforecast/model_selection/_validation.py:644: LongTrainingWarning: The forecaster will be fit 72 times (3 folds * 24 regressors). This can take substantial amounts of time. If not feasible, try with `refit = False`.\n",
      " \n",
      " You can suppress this warning using: warnings.simplefilter('ignore', category=LongTrainingWarning)\n",
      "  warnings.warn(\n"
     ]
    },
    {
     "data": {
      "application/vnd.jupyter.widget-view+json": {
       "model_id": "9f42ca4d7bf74cf7b2a6a052f0453576",
       "version_major": 2,
       "version_minor": 0
      },
      "text/plain": [
       "  0%|          | 0/3 [00:00<?, ?it/s]"
      ]
     },
     "metadata": {},
     "output_type": "display_data"
    }
   ],
   "source": [
    "# Define column names of target variables that\n",
    "# define the multivariate series\n",
    "target_cols = [\"co\", \"so2\", \"pm2.5\"]\n",
    "\n",
    "# Define column names of exogenous features\n",
    "exog_features = [\"day_of_week\"]\n",
    "\n",
    "# Forecast horizon & number of steps to move forecast origin\n",
    "steps = 24\n",
    "\n",
    "# Number of datapoints to test over\n",
    "n_backtesting = steps * 3\n",
    "\n",
    "# Initial training set size\n",
    "initial_train_size = len(data) - n_backtesting\n",
    "\n",
    "# Define how time series will be split during backtesting\n",
    "cv = TimeSeriesFold(\n",
    "    steps                 = steps,\n",
    "    initial_train_size    = initial_train_size,\n",
    "    skip_folds            = None,\n",
    "    refit                 = True,\n",
    "    fixed_train_size      = True,\n",
    "    allow_incomplete_fold = True,\n",
    ")\n",
    "\n",
    "# Run backtesting\n",
    "metric, predictions = backtesting_forecaster_multiseries(\n",
    "    forecaster=forecaster,\n",
    "    series=data[target_cols],\n",
    "    exog=data[exog_features],\n",
    "    cv=cv,\n",
    "    metric=\"mean_absolute_error\",\n",
    "    verbose=True,\n",
    "    show_progress=True,\n",
    ")"
   ]
  },
  {
   "cell_type": "code",
   "execution_count": 28,
   "id": "b4a1403f-a2be-401f-acc6-4b8c4c4ce58c",
   "metadata": {},
   "outputs": [
    {
     "data": {
      "text/html": [
       "<div>\n",
       "<style scoped>\n",
       "    .dataframe tbody tr th:only-of-type {\n",
       "        vertical-align: middle;\n",
       "    }\n",
       "\n",
       "    .dataframe tbody tr th {\n",
       "        vertical-align: top;\n",
       "    }\n",
       "\n",
       "    .dataframe thead th {\n",
       "        text-align: right;\n",
       "    }\n",
       "</style>\n",
       "<table border=\"1\" class=\"dataframe\">\n",
       "  <thead>\n",
       "    <tr style=\"text-align: right;\">\n",
       "      <th></th>\n",
       "      <th>levels</th>\n",
       "      <th>mean_absolute_error</th>\n",
       "    </tr>\n",
       "  </thead>\n",
       "  <tbody>\n",
       "    <tr>\n",
       "      <th>0</th>\n",
       "      <td>co</td>\n",
       "      <td>0.005522</td>\n",
       "    </tr>\n",
       "  </tbody>\n",
       "</table>\n",
       "</div>"
      ],
      "text/plain": [
       "  levels  mean_absolute_error\n",
       "0     co             0.005522"
      ]
     },
     "execution_count": 28,
     "metadata": {},
     "output_type": "execute_result"
    }
   ],
   "source": [
    "metric"
   ]
  },
  {
   "cell_type": "code",
   "execution_count": 29,
   "id": "0e834fa0-5ce1-4c70-aadf-07e329b017a2",
   "metadata": {},
   "outputs": [
    {
     "data": {
      "text/html": [
       "<div>\n",
       "<style scoped>\n",
       "    .dataframe tbody tr th:only-of-type {\n",
       "        vertical-align: middle;\n",
       "    }\n",
       "\n",
       "    .dataframe tbody tr th {\n",
       "        vertical-align: top;\n",
       "    }\n",
       "\n",
       "    .dataframe thead th {\n",
       "        text-align: right;\n",
       "    }\n",
       "</style>\n",
       "<table border=\"1\" class=\"dataframe\">\n",
       "  <thead>\n",
       "    <tr style=\"text-align: right;\">\n",
       "      <th></th>\n",
       "      <th>co</th>\n",
       "    </tr>\n",
       "  </thead>\n",
       "  <tbody>\n",
       "    <tr>\n",
       "      <th>2023-12-29 00:00:00</th>\n",
       "      <td>0.097111</td>\n",
       "    </tr>\n",
       "    <tr>\n",
       "      <th>2023-12-29 01:00:00</th>\n",
       "      <td>0.094397</td>\n",
       "    </tr>\n",
       "    <tr>\n",
       "      <th>2023-12-29 02:00:00</th>\n",
       "      <td>0.093861</td>\n",
       "    </tr>\n",
       "    <tr>\n",
       "      <th>2023-12-29 03:00:00</th>\n",
       "      <td>0.093377</td>\n",
       "    </tr>\n",
       "    <tr>\n",
       "      <th>2023-12-29 04:00:00</th>\n",
       "      <td>0.094793</td>\n",
       "    </tr>\n",
       "    <tr>\n",
       "      <th>...</th>\n",
       "      <td>...</td>\n",
       "    </tr>\n",
       "    <tr>\n",
       "      <th>2023-12-31 19:00:00</th>\n",
       "      <td>0.110677</td>\n",
       "    </tr>\n",
       "    <tr>\n",
       "      <th>2023-12-31 20:00:00</th>\n",
       "      <td>0.112686</td>\n",
       "    </tr>\n",
       "    <tr>\n",
       "      <th>2023-12-31 21:00:00</th>\n",
       "      <td>0.116972</td>\n",
       "    </tr>\n",
       "    <tr>\n",
       "      <th>2023-12-31 22:00:00</th>\n",
       "      <td>0.115869</td>\n",
       "    </tr>\n",
       "    <tr>\n",
       "      <th>2023-12-31 23:00:00</th>\n",
       "      <td>0.113685</td>\n",
       "    </tr>\n",
       "  </tbody>\n",
       "</table>\n",
       "<p>72 rows × 1 columns</p>\n",
       "</div>"
      ],
      "text/plain": [
       "                           co\n",
       "2023-12-29 00:00:00  0.097111\n",
       "2023-12-29 01:00:00  0.094397\n",
       "2023-12-29 02:00:00  0.093861\n",
       "2023-12-29 03:00:00  0.093377\n",
       "2023-12-29 04:00:00  0.094793\n",
       "...                       ...\n",
       "2023-12-31 19:00:00  0.110677\n",
       "2023-12-31 20:00:00  0.112686\n",
       "2023-12-31 21:00:00  0.116972\n",
       "2023-12-31 22:00:00  0.115869\n",
       "2023-12-31 23:00:00  0.113685\n",
       "\n",
       "[72 rows x 1 columns]"
      ]
     },
     "execution_count": 29,
     "metadata": {},
     "output_type": "execute_result"
    }
   ],
   "source": [
    "predictions"
   ]
  },
  {
   "cell_type": "code",
   "execution_count": 30,
   "id": "d77c580e-2510-4084-8bce-0744926d5d9f",
   "metadata": {},
   "outputs": [
    {
     "data": {
      "text/plain": [
       "<Axes: >"
      ]
     },
     "execution_count": 30,
     "metadata": {},
     "output_type": "execute_result"
    },
    {
     "data": {
      "image/png": "[encoded data removed]",
      "text/plain": [
       "<Figure size 640x480 with 1 Axes>"
      ]
     },
     "metadata": {},
     "output_type": "display_data"
    }
   ],
   "source": [
    "# Plot predictions\n",
    "predictions.plot()"
   ]
  }
 ],
 "metadata": {
  "kernelspec": {
   "display_name": "general",
   "language": "python",
   "name": "python3"
  },
  "language_info": {
   "codemirror_mode": {
    "name": "ipython",
    "version": 3
   },
   "file_extension": ".py",
   "mimetype": "text/x-python",
   "name": "python",
   "nbconvert_exporter": "python",
   "pygments_lexer": "ipython3",
   "version": "3.12.3"
  },
  "toc": {
   "base_numbering": 1,
   "nav_menu": {},
   "number_sections": true,
   "sideBar": true,
   "skip_h1_title": false,
   "title_cell": "Table of Contents",
   "title_sidebar": "Contents",
   "toc_cell": false,
   "toc_position": {
    "height": "calc(100% - 180px)",
    "left": "10px",
    "top": "150px",
    "width": "184.087px"
   },
   "toc_section_display": true,
   "toc_window_display": true
  }
 },
 "nbformat": 4,
 "nbformat_minor": 5
}
