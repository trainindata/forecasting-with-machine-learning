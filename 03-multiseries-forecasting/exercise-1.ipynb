{
 "cells": [
  {
   "cell_type": "markdown",
   "id": "327f3f9b-3f15-4bec-bafe-b75e5cf91740",
   "metadata": {},
   "source": [
    "# Exercise 1: Multiple independent time series"
   ]
  },
  {
   "cell_type": "markdown",
   "id": "8f5b8ff1-e3f7-47af-b603-15d89d0c6fe5",
   "metadata": {},
   "source": [
    "[Forecasting for machine learning](https://www.trainindata.com/p/forecasting-with-machine-learning)\n",
    "\n",
    "In this notebook we have an exercise to do multiple independent time series forecasting. The solutions we show are only one way of answering these questions."
   ]
  },
  {
   "cell_type": "code",
   "execution_count": 1,
   "id": "91a8c715-0369-4928-907d-9492db4f37a1",
   "metadata": {},
   "outputs": [],
   "source": [
    "import numpy as np\n",
    "import pandas as pd\n",
    "import matplotlib.pyplot as plt"
   ]
  },
  {
   "cell_type": "markdown",
   "id": "f6e9fcef-4dde-4107-bce6-216516626f86",
   "metadata": {},
   "source": [
    "# Data preparation"
   ]
  },
  {
   "cell_type": "markdown",
   "id": "d91ac0bd-372a-4ef0-9c0e-a0e0cf12560d",
   "metadata": {},
   "source": [
    "The dataset we shall use is the Quarterly overnight trips (in thousands) from 1998 Q1 to 2016 Q4 across\n",
    "Australia. The number of trips is split by `State`, `Region`, and `Purpose`. \n",
    "\n",
    "**In this exercise we are going to forecast the total number of trips for each Region (there are 76 regions therefore we will have 76 time series). We shall treat this as a multiple independent time series forecasting problem.**\n",
    "\n",
    "Source: A new tidy data structure to support\n",
    "exploration and modeling of temporal data, Journal of Computational and\n",
    "Graphical Statistics, 29:3, 466-478, doi:10.1080/10618600.2019.1695624.\n",
    "Shape of the dataset: (24320, 5)"
   ]
  },
  {
   "cell_type": "code",
   "execution_count": 2,
   "id": "76ef5949-cbf1-4109-887d-104f71574c2a",
   "metadata": {},
   "outputs": [
    {
     "name": "stdout",
     "output_type": "stream",
     "text": [
      "australia_tourism\n",
      "-----------------\n",
      "Quarterly overnight trips (in thousands) from 1998 Q1 to 2016 Q4 across\n",
      "Australia. The tourism regions are formed through the aggregation of Statistical\n",
      "Local Areas (SLAs) which are defined by the various State and Territory tourism\n",
      "authorities according to their research and marketing needs.\n",
      "Wang, E, D Cook, and RJ Hyndman (2020). A new tidy data structure to support\n",
      "exploration and modeling of temporal data, Journal of Computational and\n",
      "Graphical Statistics, 29:3, 466-478, doi:10.1080/10618600.2019.1695624.\n",
      "Shape of the dataset: (24320, 5)\n"
     ]
    },
    {
     "data": {
      "text/html": [
       "<div>\n",
       "<style scoped>\n",
       "    .dataframe tbody tr th:only-of-type {\n",
       "        vertical-align: middle;\n",
       "    }\n",
       "\n",
       "    .dataframe tbody tr th {\n",
       "        vertical-align: top;\n",
       "    }\n",
       "\n",
       "    .dataframe thead th {\n",
       "        text-align: right;\n",
       "    }\n",
       "</style>\n",
       "<table border=\"1\" class=\"dataframe\">\n",
       "  <thead>\n",
       "    <tr style=\"text-align: right;\">\n",
       "      <th></th>\n",
       "      <th>date_time</th>\n",
       "      <th>Region</th>\n",
       "      <th>State</th>\n",
       "      <th>Purpose</th>\n",
       "      <th>Trips</th>\n",
       "    </tr>\n",
       "  </thead>\n",
       "  <tbody>\n",
       "    <tr>\n",
       "      <th>0</th>\n",
       "      <td>1998-01-01</td>\n",
       "      <td>Adelaide</td>\n",
       "      <td>South Australia</td>\n",
       "      <td>Business</td>\n",
       "      <td>135.077690</td>\n",
       "    </tr>\n",
       "    <tr>\n",
       "      <th>1</th>\n",
       "      <td>1998-04-01</td>\n",
       "      <td>Adelaide</td>\n",
       "      <td>South Australia</td>\n",
       "      <td>Business</td>\n",
       "      <td>109.987316</td>\n",
       "    </tr>\n",
       "    <tr>\n",
       "      <th>2</th>\n",
       "      <td>1998-07-01</td>\n",
       "      <td>Adelaide</td>\n",
       "      <td>South Australia</td>\n",
       "      <td>Business</td>\n",
       "      <td>166.034687</td>\n",
       "    </tr>\n",
       "    <tr>\n",
       "      <th>3</th>\n",
       "      <td>1998-10-01</td>\n",
       "      <td>Adelaide</td>\n",
       "      <td>South Australia</td>\n",
       "      <td>Business</td>\n",
       "      <td>127.160464</td>\n",
       "    </tr>\n",
       "    <tr>\n",
       "      <th>4</th>\n",
       "      <td>1999-01-01</td>\n",
       "      <td>Adelaide</td>\n",
       "      <td>South Australia</td>\n",
       "      <td>Business</td>\n",
       "      <td>137.448533</td>\n",
       "    </tr>\n",
       "  </tbody>\n",
       "</table>\n",
       "</div>"
      ],
      "text/plain": [
       "    date_time    Region            State   Purpose       Trips\n",
       "0  1998-01-01  Adelaide  South Australia  Business  135.077690\n",
       "1  1998-04-01  Adelaide  South Australia  Business  109.987316\n",
       "2  1998-07-01  Adelaide  South Australia  Business  166.034687\n",
       "3  1998-10-01  Adelaide  South Australia  Business  127.160464\n",
       "4  1999-01-01  Adelaide  South Australia  Business  137.448533"
      ]
     },
     "execution_count": 2,
     "metadata": {},
     "output_type": "execute_result"
    }
   ],
   "source": [
    "from skforecast.datasets import fetch_dataset\n",
    "\n",
    "# Load the data\n",
    "data = fetch_dataset(name=\"australia_tourism\", raw=True)\n",
    "data.head()"
   ]
  },
  {
   "cell_type": "markdown",
   "id": "48a62223-83ab-4a7e-af1b-4fe91e1b31c7",
   "metadata": {},
   "source": [
    "Pre-process the data by performing the following:\n",
    "1) Convert the `date_time` column to datetime type\n",
    "2) Create a dataframe with one column per `Region` which gives the total number of Trips for each date.\n",
    "3) Ensure the index is `date_time` and resampled to quarterly start `QS`\n"
   ]
  },
  {
   "cell_type": "code",
   "execution_count": 3,
   "id": "6506a6d4-e680-4c12-9dd1-7e037c91a2ef",
   "metadata": {},
   "outputs": [
    {
     "data": {
      "text/html": [
       "<div>\n",
       "<style scoped>\n",
       "    .dataframe tbody tr th:only-of-type {\n",
       "        vertical-align: middle;\n",
       "    }\n",
       "\n",
       "    .dataframe tbody tr th {\n",
       "        vertical-align: top;\n",
       "    }\n",
       "\n",
       "    .dataframe thead th {\n",
       "        text-align: right;\n",
       "    }\n",
       "</style>\n",
       "<table border=\"1\" class=\"dataframe\">\n",
       "  <thead>\n",
       "    <tr style=\"text-align: right;\">\n",
       "      <th>Region</th>\n",
       "      <th>Adelaide</th>\n",
       "      <th>Adelaide Hills</th>\n",
       "      <th>Alice Springs</th>\n",
       "      <th>Australia's Coral Coast</th>\n",
       "      <th>Australia's Golden Outback</th>\n",
       "      <th>Australia's North West</th>\n",
       "      <th>Australia's South West</th>\n",
       "      <th>Ballarat</th>\n",
       "      <th>Barkly</th>\n",
       "      <th>Barossa</th>\n",
       "      <th>...</th>\n",
       "      <th>Sunshine Coast</th>\n",
       "      <th>Sydney</th>\n",
       "      <th>The Murray</th>\n",
       "      <th>Tropical North Queensland</th>\n",
       "      <th>Upper Yarra</th>\n",
       "      <th>Western Grampians</th>\n",
       "      <th>Whitsundays</th>\n",
       "      <th>Wilderness West</th>\n",
       "      <th>Wimmera</th>\n",
       "      <th>Yorke Peninsula</th>\n",
       "    </tr>\n",
       "    <tr>\n",
       "      <th>date_time</th>\n",
       "      <th></th>\n",
       "      <th></th>\n",
       "      <th></th>\n",
       "      <th></th>\n",
       "      <th></th>\n",
       "      <th></th>\n",
       "      <th></th>\n",
       "      <th></th>\n",
       "      <th></th>\n",
       "      <th></th>\n",
       "      <th></th>\n",
       "      <th></th>\n",
       "      <th></th>\n",
       "      <th></th>\n",
       "      <th></th>\n",
       "      <th></th>\n",
       "      <th></th>\n",
       "      <th></th>\n",
       "      <th></th>\n",
       "      <th></th>\n",
       "      <th></th>\n",
       "    </tr>\n",
       "  </thead>\n",
       "  <tbody>\n",
       "    <tr>\n",
       "      <th>1998-01-01</th>\n",
       "      <td>658.553895</td>\n",
       "      <td>9.798630</td>\n",
       "      <td>20.207638</td>\n",
       "      <td>132.516409</td>\n",
       "      <td>161.726948</td>\n",
       "      <td>120.775450</td>\n",
       "      <td>474.858729</td>\n",
       "      <td>182.239341</td>\n",
       "      <td>18.465206</td>\n",
       "      <td>46.796083</td>\n",
       "      <td>...</td>\n",
       "      <td>742.602299</td>\n",
       "      <td>2288.955629</td>\n",
       "      <td>356.500087</td>\n",
       "      <td>220.915346</td>\n",
       "      <td>102.791022</td>\n",
       "      <td>86.996591</td>\n",
       "      <td>60.226649</td>\n",
       "      <td>63.335097</td>\n",
       "      <td>18.804743</td>\n",
       "      <td>160.681637</td>\n",
       "    </tr>\n",
       "    <tr>\n",
       "      <th>1998-04-01</th>\n",
       "      <td>449.853935</td>\n",
       "      <td>26.066952</td>\n",
       "      <td>56.356223</td>\n",
       "      <td>172.615378</td>\n",
       "      <td>164.973780</td>\n",
       "      <td>158.404387</td>\n",
       "      <td>411.622281</td>\n",
       "      <td>137.566539</td>\n",
       "      <td>7.510969</td>\n",
       "      <td>49.428717</td>\n",
       "      <td>...</td>\n",
       "      <td>609.883333</td>\n",
       "      <td>1814.459480</td>\n",
       "      <td>312.291189</td>\n",
       "      <td>253.097616</td>\n",
       "      <td>74.855136</td>\n",
       "      <td>84.939977</td>\n",
       "      <td>106.190848</td>\n",
       "      <td>42.607076</td>\n",
       "      <td>52.482311</td>\n",
       "      <td>104.324252</td>\n",
       "    </tr>\n",
       "    <tr>\n",
       "      <th>1998-07-01</th>\n",
       "      <td>592.904597</td>\n",
       "      <td>26.491072</td>\n",
       "      <td>110.918441</td>\n",
       "      <td>173.904335</td>\n",
       "      <td>206.879934</td>\n",
       "      <td>184.619035</td>\n",
       "      <td>360.039657</td>\n",
       "      <td>117.642761</td>\n",
       "      <td>43.565625</td>\n",
       "      <td>29.743302</td>\n",
       "      <td>...</td>\n",
       "      <td>615.306331</td>\n",
       "      <td>1989.731939</td>\n",
       "      <td>376.718698</td>\n",
       "      <td>423.506735</td>\n",
       "      <td>59.465405</td>\n",
       "      <td>79.974884</td>\n",
       "      <td>81.771005</td>\n",
       "      <td>18.851214</td>\n",
       "      <td>35.657551</td>\n",
       "      <td>68.996468</td>\n",
       "    </tr>\n",
       "    <tr>\n",
       "      <th>1998-10-01</th>\n",
       "      <td>524.242760</td>\n",
       "      <td>27.256859</td>\n",
       "      <td>40.868270</td>\n",
       "      <td>207.002571</td>\n",
       "      <td>198.509591</td>\n",
       "      <td>138.878263</td>\n",
       "      <td>462.620050</td>\n",
       "      <td>136.072724</td>\n",
       "      <td>29.359239</td>\n",
       "      <td>78.193066</td>\n",
       "      <td>...</td>\n",
       "      <td>684.430239</td>\n",
       "      <td>2150.913627</td>\n",
       "      <td>336.367694</td>\n",
       "      <td>283.694451</td>\n",
       "      <td>35.238855</td>\n",
       "      <td>116.235617</td>\n",
       "      <td>105.600143</td>\n",
       "      <td>50.450965</td>\n",
       "      <td>27.204455</td>\n",
       "      <td>103.340264</td>\n",
       "    </tr>\n",
       "    <tr>\n",
       "      <th>1999-01-01</th>\n",
       "      <td>548.394105</td>\n",
       "      <td>13.772975</td>\n",
       "      <td>48.368038</td>\n",
       "      <td>198.856638</td>\n",
       "      <td>140.213443</td>\n",
       "      <td>103.337122</td>\n",
       "      <td>562.974629</td>\n",
       "      <td>156.456242</td>\n",
       "      <td>6.341997</td>\n",
       "      <td>35.277910</td>\n",
       "      <td>...</td>\n",
       "      <td>842.167418</td>\n",
       "      <td>1779.286905</td>\n",
       "      <td>323.418472</td>\n",
       "      <td>194.509904</td>\n",
       "      <td>67.823457</td>\n",
       "      <td>101.765635</td>\n",
       "      <td>111.504972</td>\n",
       "      <td>59.888003</td>\n",
       "      <td>50.219851</td>\n",
       "      <td>146.658290</td>\n",
       "    </tr>\n",
       "  </tbody>\n",
       "</table>\n",
       "<p>5 rows × 76 columns</p>\n",
       "</div>"
      ],
      "text/plain": [
       "Region        Adelaide  Adelaide Hills  Alice Springs  \\\n",
       "date_time                                               \n",
       "1998-01-01  658.553895        9.798630      20.207638   \n",
       "1998-04-01  449.853935       26.066952      56.356223   \n",
       "1998-07-01  592.904597       26.491072     110.918441   \n",
       "1998-10-01  524.242760       27.256859      40.868270   \n",
       "1999-01-01  548.394105       13.772975      48.368038   \n",
       "\n",
       "Region      Australia's Coral Coast  Australia's Golden Outback  \\\n",
       "date_time                                                         \n",
       "1998-01-01               132.516409                  161.726948   \n",
       "1998-04-01               172.615378                  164.973780   \n",
       "1998-07-01               173.904335                  206.879934   \n",
       "1998-10-01               207.002571                  198.509591   \n",
       "1999-01-01               198.856638                  140.213443   \n",
       "\n",
       "Region      Australia's North West  Australia's South West    Ballarat  \\\n",
       "date_time                                                                \n",
       "1998-01-01              120.775450              474.858729  182.239341   \n",
       "1998-04-01              158.404387              411.622281  137.566539   \n",
       "1998-07-01              184.619035              360.039657  117.642761   \n",
       "1998-10-01              138.878263              462.620050  136.072724   \n",
       "1999-01-01              103.337122              562.974629  156.456242   \n",
       "\n",
       "Region         Barkly    Barossa  ...  Sunshine Coast       Sydney  \\\n",
       "date_time                         ...                                \n",
       "1998-01-01  18.465206  46.796083  ...      742.602299  2288.955629   \n",
       "1998-04-01   7.510969  49.428717  ...      609.883333  1814.459480   \n",
       "1998-07-01  43.565625  29.743302  ...      615.306331  1989.731939   \n",
       "1998-10-01  29.359239  78.193066  ...      684.430239  2150.913627   \n",
       "1999-01-01   6.341997  35.277910  ...      842.167418  1779.286905   \n",
       "\n",
       "Region      The Murray  Tropical North Queensland  Upper Yarra  \\\n",
       "date_time                                                        \n",
       "1998-01-01  356.500087                 220.915346   102.791022   \n",
       "1998-04-01  312.291189                 253.097616    74.855136   \n",
       "1998-07-01  376.718698                 423.506735    59.465405   \n",
       "1998-10-01  336.367694                 283.694451    35.238855   \n",
       "1999-01-01  323.418472                 194.509904    67.823457   \n",
       "\n",
       "Region      Western Grampians  Whitsundays  Wilderness West    Wimmera  \\\n",
       "date_time                                                                \n",
       "1998-01-01          86.996591    60.226649        63.335097  18.804743   \n",
       "1998-04-01          84.939977   106.190848        42.607076  52.482311   \n",
       "1998-07-01          79.974884    81.771005        18.851214  35.657551   \n",
       "1998-10-01         116.235617   105.600143        50.450965  27.204455   \n",
       "1999-01-01         101.765635   111.504972        59.888003  50.219851   \n",
       "\n",
       "Region      Yorke Peninsula  \n",
       "date_time                    \n",
       "1998-01-01       160.681637  \n",
       "1998-04-01       104.324252  \n",
       "1998-07-01        68.996468  \n",
       "1998-10-01       103.340264  \n",
       "1999-01-01       146.658290  \n",
       "\n",
       "[5 rows x 76 columns]"
      ]
     },
     "execution_count": 3,
     "metadata": {},
     "output_type": "execute_result"
    }
   ],
   "source": []
  },
  {
   "cell_type": "markdown",
   "id": "589f58e0-6106-430c-ab2b-557ea84bb2a5",
   "metadata": {},
   "source": [
    "Check for missing values."
   ]
  },
  {
   "cell_type": "code",
   "execution_count": null,
   "id": "92bd6aaf-caac-4bb8-96a2-c0d59220f6e8",
   "metadata": {},
   "outputs": [],
   "source": []
  },
  {
   "cell_type": "markdown",
   "id": "453278bb-fa05-42d1-bc66-a17b05d501c9",
   "metadata": {},
   "source": [
    "Later we may want to use LightGBM, it does not support special JSON characters (e.g., `'`)  in the column name. Let's remove these characters from the column names."
   ]
  },
  {
   "cell_type": "code",
   "execution_count": 5,
   "id": "872210ab-580d-4420-9fbc-2e3014d5883b",
   "metadata": {},
   "outputs": [],
   "source": [
    "import re\n",
    "\n",
    "data = data.rename(columns=lambda x: re.sub(\"[^A-Za-z0-9_]+\", \"\", x))"
   ]
  },
  {
   "cell_type": "markdown",
   "id": "44fb99c2-65b9-4665-9c55-528af407baee",
   "metadata": {},
   "source": [
    "Assign the name of each state to a variable `Region`. We will use this later."
   ]
  },
  {
   "cell_type": "code",
   "execution_count": null,
   "id": "57f6888c-a06c-4cd8-a358-039860bc5efd",
   "metadata": {},
   "outputs": [],
   "source": []
  },
  {
   "cell_type": "markdown",
   "id": "eb03773c-a9bf-4fa8-84a4-099af6b87827",
   "metadata": {},
   "source": [
    "# Exploratory data analysis"
   ]
  },
  {
   "cell_type": "markdown",
   "id": "7d1ba5b6-b49d-4bab-882e-915f075b9493",
   "metadata": {},
   "source": [
    "Print the number of data points in the time series, the start time, and the end time of the time series."
   ]
  },
  {
   "cell_type": "code",
   "execution_count": null,
   "id": "36af3ab9-4267-471d-800b-dc9a3dcdb43e",
   "metadata": {},
   "outputs": [],
   "source": []
  },
  {
   "cell_type": "markdown",
   "id": "3ffa8a95-d0d5-48e4-ba5f-b92a4f54c0ef",
   "metadata": {},
   "source": [
    "Plot the time series summed over all states."
   ]
  },
  {
   "cell_type": "code",
   "execution_count": null,
   "id": "f1629484-508f-419f-8647-1ef6626eab26",
   "metadata": {},
   "outputs": [],
   "source": []
  },
  {
   "cell_type": "markdown",
   "id": "16971015-96a9-480e-9f9e-f21637d68e87",
   "metadata": {},
   "source": [
    "Plot a subsample of the time series from different regions."
   ]
  },
  {
   "cell_type": "code",
   "execution_count": null,
   "id": "d7193016-417f-4bec-87e0-dcce787ee7fe",
   "metadata": {},
   "outputs": [],
   "source": []
  },
  {
   "cell_type": "markdown",
   "id": "143c6eab-8a90-4b45-9f63-db450d91c296",
   "metadata": {},
   "source": [
    "It appears that there is yearly seasonality for these series and they appear to be anti-correlated (i.e., some areas experience peaks whilst others experience troughs)."
   ]
  },
  {
   "cell_type": "markdown",
   "id": "af0befd7-d612-4bfe-8cb6-fc2bfd2bc9f1",
   "metadata": {},
   "source": [
    "Create a quarter of the year feature which could help with the yearly seasonality."
   ]
  },
  {
   "cell_type": "code",
   "execution_count": null,
   "id": "6c2b84e0-07a4-46ef-ae53-6327625a7284",
   "metadata": {},
   "outputs": [],
   "source": []
  },
  {
   "cell_type": "markdown",
   "id": "bed95ade-4109-4b31-847b-28f5c9807692",
   "metadata": {},
   "source": [
    "# Forecasting"
   ]
  },
  {
   "cell_type": "markdown",
   "id": "a40647fe-99b4-474e-8a03-b7bf4f9eed29",
   "metadata": {},
   "source": [
    "Import the class needed for recursive forecasting for multiple independent time series from `skforecast`"
   ]
  },
  {
   "cell_type": "code",
   "execution_count": null,
   "id": "e00293e1",
   "metadata": {},
   "outputs": [],
   "source": []
  },
  {
   "cell_type": "code",
   "execution_count": null,
   "id": "7b2e3c25",
   "metadata": {},
   "outputs": [],
   "source": []
  },
  {
   "cell_type": "code",
   "execution_count": null,
   "id": "613011ce-c45c-40b5-b46a-e6a8037d4f08",
   "metadata": {},
   "outputs": [],
   "source": []
  },
  {
   "cell_type": "markdown",
   "id": "d692c732-e699-46cb-bab6-cd148e9af1f1",
   "metadata": {},
   "source": [
    "Import a transformer from `sklearn` to scale the data."
   ]
  },
  {
   "cell_type": "code",
   "execution_count": null,
   "id": "cadffd44-e241-4677-b640-9c8b9db2784f",
   "metadata": {},
   "outputs": [],
   "source": []
  },
  {
   "cell_type": "markdown",
   "id": "eaf0b4fb-9548-4da1-b356-e9ec377d68f9",
   "metadata": {},
   "source": [
    "Import a model of your choice."
   ]
  },
  {
   "cell_type": "code",
   "execution_count": null,
   "id": "0495bdc3-5e22-483a-b0ab-2b3e0402fbee",
   "metadata": {},
   "outputs": [],
   "source": []
  },
  {
   "cell_type": "markdown",
   "id": "66a304ca-77a4-48f6-99ef-f24d30417daa",
   "metadata": {},
   "source": [
    "Assign the names of the states to a `target_cols` variable and any exogenous features to an `exog_cols` variable."
   ]
  },
  {
   "cell_type": "code",
   "execution_count": null,
   "id": "be5cfa65-d69b-427c-bccc-0021fa04ef02",
   "metadata": {},
   "outputs": [],
   "source": []
  },
  {
   "cell_type": "markdown",
   "id": "9a24e307-22ef-44f1-8f11-b7746a70d3bb",
   "metadata": {},
   "source": [
    "Specify a forecast horizon and assign it to a variable `steps`. Try forecasting 8 quarters into the future."
   ]
  },
  {
   "cell_type": "code",
   "execution_count": null,
   "id": "2b37700d-9bfa-4c60-926a-b48a9e32c7ce",
   "metadata": {},
   "outputs": [],
   "source": []
  },
  {
   "cell_type": "markdown",
   "id": "4109bb1b-b6a1-48f1-99ca-caca04c01a63",
   "metadata": {},
   "source": [
    "Create a dataframe for the future values of any exogenous features.\n",
    "\n",
    "Hint: `pd.DateOffset` and using `freq=QS` in `pd.date_range` might be helpful "
   ]
  },
  {
   "cell_type": "code",
   "execution_count": null,
   "id": "c96dd685-09d8-42d0-949b-652acf45e56a",
   "metadata": {},
   "outputs": [],
   "source": []
  },
  {
   "cell_type": "markdown",
   "id": "dc854213-25d3-47f9-877b-af4a139ee94f",
   "metadata": {},
   "source": [
    "Define window features using the `RollingFeatures` class from skforecast. Try a window of 4 and 8 (1 and 2 years)."
   ]
  },
  {
   "cell_type": "code",
   "execution_count": null,
   "id": "b2d65f26-66b6-4bf0-9275-9d51f7561589",
   "metadata": {},
   "outputs": [],
   "source": []
  },
  {
   "cell_type": "markdown",
   "id": "7023fc71-a772-462b-8456-f34aa91c71bf",
   "metadata": {},
   "source": [
    "Define a weight function (a function of the time axis) that linearly decreases the weight from 1 to 0 as we go back in time. This will give more weight to recent dates. Define it so there are no harded coded dates in the function.\n",
    "\n",
    "Hint: Consider using `np.linspace`"
   ]
  },
  {
   "cell_type": "code",
   "execution_count": null,
   "id": "2fceaa6a-3795-4ebc-89a4-cdd0933afe65",
   "metadata": {},
   "outputs": [],
   "source": []
  },
  {
   "cell_type": "markdown",
   "id": "3ccac13b-ba92-4403-840b-0107271cb8df",
   "metadata": {},
   "source": [
    "Define a forecaster to predict all the time series. Pass your weight function and custom predictors function to the forecaster."
   ]
  },
  {
   "cell_type": "code",
   "execution_count": null,
   "id": "3a6dca60-9b60-4504-a7be-763172567716",
   "metadata": {},
   "outputs": [],
   "source": []
  },
  {
   "cell_type": "markdown",
   "id": "a511fcdc-dea7-48a8-ac05-8089bb92cad2",
   "metadata": {},
   "source": [
    "Fit the forecaster."
   ]
  },
  {
   "cell_type": "code",
   "execution_count": null,
   "id": "3d0ebf20-d667-4298-bb05-9c84770b3169",
   "metadata": {},
   "outputs": [],
   "source": []
  },
  {
   "cell_type": "markdown",
   "id": "f03fa990-4113-4a4e-be3b-28f6695ec179",
   "metadata": {},
   "source": [
    "Make a forecast."
   ]
  },
  {
   "cell_type": "code",
   "execution_count": null,
   "id": "450a6090-e4ae-424f-91d9-840044ca4c16",
   "metadata": {},
   "outputs": [],
   "source": []
  },
  {
   "cell_type": "markdown",
   "id": "dd7553db-6b01-48ad-aa43-58506fd4babb",
   "metadata": {},
   "source": [
    "Plot the a random subset of the time series and the forecast."
   ]
  },
  {
   "cell_type": "code",
   "execution_count": null,
   "id": "067f8c6e-b570-4cb7-9be2-0fd35e8c2937",
   "metadata": {},
   "outputs": [],
   "source": []
  },
  {
   "cell_type": "markdown",
   "id": "9861f6b8-a2ec-4f20-8197-ac7ae47973d5",
   "metadata": {},
   "source": [
    "# Feature importance"
   ]
  },
  {
   "cell_type": "markdown",
   "id": "52146b7c-52a9-4f0f-a353-0c5965302fd7",
   "metadata": {},
   "source": [
    "Plot the 10 most important features."
   ]
  },
  {
   "cell_type": "code",
   "execution_count": null,
   "id": "4bac5303-30aa-4263-bda2-7eab421c3412",
   "metadata": {},
   "outputs": [],
   "source": []
  }
 ],
 "metadata": {
  "kernelspec": {
   "display_name": "Python 3 (ipykernel)",
   "language": "python",
   "name": "python3"
  },
  "language_info": {
   "codemirror_mode": {
    "name": "ipython",
    "version": 3
   },
   "file_extension": ".py",
   "mimetype": "text/x-python",
   "name": "python",
   "nbconvert_exporter": "python",
   "pygments_lexer": "ipython3",
   "version": "3.10.2"
  }
 },
 "nbformat": 4,
 "nbformat_minor": 5
}
