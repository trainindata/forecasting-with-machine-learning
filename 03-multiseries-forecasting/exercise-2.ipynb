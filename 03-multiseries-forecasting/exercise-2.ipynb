{
 "cells": [
  {
   "cell_type": "markdown",
   "id": "6b76acb4-90e2-4b95-b211-65607b67dc78",
   "metadata": {},
   "source": [
    "# Exercise 2: Multiple dependent time series"
   ]
  },
  {
   "cell_type": "markdown",
   "id": "8f5b8ff1-e3f7-47af-b603-15d89d0c6fe5",
   "metadata": {},
   "source": [
    "[Forecasting for machine learning](https://www.trainindata.com/p/forecasting-with-machine-learning)\n",
    "\n",
    "In this notebook we have an exercise to do multiple dependent time series forecasting. The solutions we show are only one way of answering these questions."
   ]
  },
  {
   "cell_type": "code",
   "execution_count": null,
   "id": "91a8c715-0369-4928-907d-9492db4f37a1",
   "metadata": {},
   "outputs": [],
   "source": [
    "import numpy as np\n",
    "import pandas as pd\n",
    "import matplotlib.pyplot as plt"
   ]
  },
  {
   "cell_type": "markdown",
   "id": "f6e9fcef-4dde-4107-bce6-216516626f86",
   "metadata": {},
   "source": [
    "# Data preparation"
   ]
  },
  {
   "cell_type": "markdown",
   "id": "d91ac0bd-372a-4ef0-9c0e-a0e0cf12560d",
   "metadata": {},
   "source": [
    "The dataset we shall use is the Quarterly overnight trips (in thousands) from 1998 Q1 to 2016 Q4 across\n",
    "Australia. The number of trips is split by `State`, `Region`, and `Purpose`. \n",
    "\n",
    "**In this exercise we are going to forecast the total number of trips for each State (there are 8 states therefore we will have 8 time series). We shall treat this as a multivariate forecasting problem.**\n",
    "\n",
    "Source: A new tidy data structure to support\n",
    "exploration and modeling of temporal data, Journal of Computational and\n",
    "Graphical Statistics, 29:3, 466-478, doi:10.1080/10618600.2019.1695624.\n",
    "Shape of the dataset: (24320, 5)"
   ]
  },
  {
   "cell_type": "code",
   "execution_count": null,
   "id": "76ef5949-cbf1-4109-887d-104f71574c2a",
   "metadata": {},
   "outputs": [],
   "source": [
    "from skforecast.datasets import fetch_dataset\n",
    "\n",
    "# Load the data\n",
    "data = fetch_dataset(name=\"australia_tourism\", raw=True)\n",
    "data.head()"
   ]
  },
  {
   "cell_type": "markdown",
   "id": "48a62223-83ab-4a7e-af1b-4fe91e1b31c7",
   "metadata": {},
   "source": [
    "Pre-process the data by performing the following:\n",
    "1) Convert the `date_time` column to datetime type\n",
    "2) Create a dataframe with one column per `Region` which gives the total number of Trips for each date.\n",
    "3) Ensure the index is `date_time` and resampled to quarterly start `QS`\n"
   ]
  },
  {
   "cell_type": "code",
   "execution_count": null,
   "id": "6506a6d4-e680-4c12-9dd1-7e037c91a2ef",
   "metadata": {},
   "outputs": [],
   "source": []
  },
  {
   "cell_type": "markdown",
   "id": "589f58e0-6106-430c-ab2b-557ea84bb2a5",
   "metadata": {},
   "source": [
    "Check for missing values."
   ]
  },
  {
   "cell_type": "code",
   "execution_count": null,
   "id": "92bd6aaf-caac-4bb8-96a2-c0d59220f6e8",
   "metadata": {},
   "outputs": [],
   "source": []
  },
  {
   "cell_type": "markdown",
   "id": "44fb99c2-65b9-4665-9c55-528af407baee",
   "metadata": {},
   "source": [
    "Assign the name of each state to a variable `states`. We will use this later."
   ]
  },
  {
   "cell_type": "code",
   "execution_count": null,
   "id": "57f6888c-a06c-4cd8-a358-039860bc5efd",
   "metadata": {},
   "outputs": [],
   "source": []
  },
  {
   "cell_type": "markdown",
   "id": "eb03773c-a9bf-4fa8-84a4-099af6b87827",
   "metadata": {},
   "source": [
    "# Exploratory data analysis"
   ]
  },
  {
   "cell_type": "markdown",
   "id": "7d1ba5b6-b49d-4bab-882e-915f075b9493",
   "metadata": {},
   "source": [
    "Print the number of data points in the time series, the start time, and the end time of the time series."
   ]
  },
  {
   "cell_type": "code",
   "execution_count": null,
   "id": "36af3ab9-4267-471d-800b-dc9a3dcdb43e",
   "metadata": {},
   "outputs": [],
   "source": []
  },
  {
   "cell_type": "markdown",
   "id": "3ffa8a95-d0d5-48e4-ba5f-b92a4f54c0ef",
   "metadata": {},
   "source": [
    "Plot the time series summed over all states."
   ]
  },
  {
   "cell_type": "code",
   "execution_count": null,
   "id": "f1629484-508f-419f-8647-1ef6626eab26",
   "metadata": {},
   "outputs": [],
   "source": []
  },
  {
   "cell_type": "markdown",
   "id": "16971015-96a9-480e-9f9e-f21637d68e87",
   "metadata": {},
   "source": [
    "Plot all of the time series."
   ]
  },
  {
   "cell_type": "code",
   "execution_count": null,
   "id": "d7193016-417f-4bec-87e0-dcce787ee7fe",
   "metadata": {},
   "outputs": [],
   "source": []
  },
  {
   "cell_type": "markdown",
   "id": "143c6eab-8a90-4b45-9f63-db450d91c296",
   "metadata": {},
   "source": [
    "It appears that there is yearly seasonality for these series and they appear to be anti-correlated (i.e., some areas experience peaks whilst others experience troughs)."
   ]
  },
  {
   "cell_type": "markdown",
   "id": "af0befd7-d612-4bfe-8cb6-fc2bfd2bc9f1",
   "metadata": {},
   "source": [
    "Create a quarter of the year feature which could help with the yearly seasonality."
   ]
  },
  {
   "cell_type": "code",
   "execution_count": null,
   "id": "6c2b84e0-07a4-46ef-ae53-6327625a7284",
   "metadata": {},
   "outputs": [],
   "source": []
  },
  {
   "cell_type": "markdown",
   "id": "bed95ade-4109-4b31-847b-28f5c9807692",
   "metadata": {},
   "source": [
    "# Forecasting"
   ]
  },
  {
   "cell_type": "markdown",
   "id": "a40647fe-99b4-474e-8a03-b7bf4f9eed29",
   "metadata": {},
   "source": [
    "Import the class needed for recursive forecasting for multiple dependent time series from `skforecast`."
   ]
  },
  {
   "cell_type": "code",
   "execution_count": null,
   "id": "613011ce-c45c-40b5-b46a-e6a8037d4f08",
   "metadata": {},
   "outputs": [],
   "source": []
  },
  {
   "cell_type": "markdown",
   "id": "d692c732-e699-46cb-bab6-cd148e9af1f1",
   "metadata": {},
   "source": [
    "Import a transformer from sklearn to scale the data."
   ]
  },
  {
   "cell_type": "code",
   "execution_count": null,
   "id": "cadffd44-e241-4677-b640-9c8b9db2784f",
   "metadata": {},
   "outputs": [],
   "source": []
  },
  {
   "cell_type": "markdown",
   "id": "eaf0b4fb-9548-4da1-b356-e9ec377d68f9",
   "metadata": {},
   "source": [
    "Import a model of your choice."
   ]
  },
  {
   "cell_type": "code",
   "execution_count": null,
   "id": "0495bdc3-5e22-483a-b0ab-2b3e0402fbee",
   "metadata": {},
   "outputs": [],
   "source": []
  },
  {
   "cell_type": "markdown",
   "id": "66a304ca-77a4-48f6-99ef-f24d30417daa",
   "metadata": {},
   "source": [
    "Assign the names of the states to a `target_cols` variable and any exogenous features to an `exog_cols` variable."
   ]
  },
  {
   "cell_type": "code",
   "execution_count": null,
   "id": "be5cfa65-d69b-427c-bccc-0021fa04ef02",
   "metadata": {},
   "outputs": [],
   "source": []
  },
  {
   "cell_type": "markdown",
   "id": "9a24e307-22ef-44f1-8f11-b7746a70d3bb",
   "metadata": {},
   "source": [
    "Specify a forecast horizon and assign it to a variable `steps`. Try forecasting 8 quarters into the future."
   ]
  },
  {
   "cell_type": "code",
   "execution_count": null,
   "id": "2b37700d-9bfa-4c60-926a-b48a9e32c7ce",
   "metadata": {},
   "outputs": [],
   "source": []
  },
  {
   "cell_type": "markdown",
   "id": "4109bb1b-b6a1-48f1-99ca-caca04c01a63",
   "metadata": {},
   "source": [
    "Create a dataframe for the future values of any exogenous features.\n",
    "\n",
    "Hint: `pd.DateOffset` and using `freq=QS` in `pd.date_range` might be helpful "
   ]
  },
  {
   "cell_type": "code",
   "execution_count": null,
   "id": "c96dd685-09d8-42d0-949b-652acf45e56a",
   "metadata": {},
   "outputs": [],
   "source": []
  },
  {
   "cell_type": "markdown",
   "id": "52146b7c-52a9-4f0f-a353-0c5965302fd7",
   "metadata": {},
   "source": [
    "Forecast over each state using a for loop. Define a `ForecasterDirectMultiVariate` forecaster and experiment with the number of lags to use as a feature."
   ]
  },
  {
   "cell_type": "code",
   "execution_count": null,
   "id": "59447171-bbdc-4a0a-82d1-fa809a9db068",
   "metadata": {},
   "outputs": [],
   "source": []
  },
  {
   "cell_type": "markdown",
   "id": "95652d3b-4073-4080-b2ac-567739b08d3e",
   "metadata": {},
   "source": [
    "Plot the forecasts."
   ]
  },
  {
   "cell_type": "code",
   "execution_count": null,
   "id": "9a448c27-2516-47c5-8598-f4430d9540ce",
   "metadata": {},
   "outputs": [],
   "source": []
  }
 ],
 "metadata": {
  "kernelspec": {
   "display_name": "Python 3 (ipykernel)",
   "language": "python",
   "name": "python3"
  },
  "language_info": {
   "codemirror_mode": {
    "name": "ipython",
    "version": 3
   },
   "file_extension": ".py",
   "mimetype": "text/x-python",
   "name": "python",
   "nbconvert_exporter": "python",
   "pygments_lexer": "ipython3",
   "version": "3.10.2"
  }
 },
 "nbformat": 4,
 "nbformat_minor": 5
}
